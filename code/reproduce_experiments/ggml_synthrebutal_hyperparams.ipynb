{
 "cells": [
  {
   "cell_type": "code",
   "execution_count": 10,
   "metadata": {},
   "outputs": [
    {
     "name": "stdout",
     "output_type": "stream",
     "text": [
      "2.4.0+cu118\n"
     ]
    }
   ],
   "source": [
    "import sys\n",
    "sys.path.insert(0, '..')\n",
    "#for local import of parent dict\n",
    "\n",
    "## Import the usual libraries\n",
    "import torch\n",
    "import torchvision\n",
    "import torch.nn as nn\n",
    "from torchvision import datasets, models, transforms\n",
    "\n",
    "from sklearn.metrics.pairwise import pairwise_distances\n",
    "import scipy\n",
    "\n",
    "import os\n",
    "import numpy as np\n",
    "\n",
    "#synth Data\n",
    "from ggml.generator import get_pointcloud, create_t_triplets\n",
    "from torch.utils.data import Dataset\n",
    "from torch.utils.data import DataLoader\n",
    "\n",
    "#Optimal Transport\n",
    "import ot\n",
    "\n",
    "#Plotting\n",
    "from ggml.plot import plot_distribution, plot_emb, hier_clustering, plot_ellipses\n",
    "import matplotlib.pyplot as plt\n",
    "import seaborn as sns\n",
    "\n",
    "\n",
    "%matplotlib inline\n",
    "\n",
    "## print out the pytorch version used (1.31 at the time of this tutorial)\n",
    "print(torch.__version__)"
   ]
  },
  {
   "cell_type": "code",
   "execution_count": 11,
   "metadata": {},
   "outputs": [
    {
     "name": "stdout",
     "output_type": "stream",
     "text": [
      "cuda:0\n"
     ]
    }
   ],
   "source": [
    "## configuration to detect cuda or cpu\n",
    "device = torch.device(\"cuda:0\" if torch.cuda.is_available() else \"cpu\")\n",
    "print (device)\n",
    "\n",
    "def pairwise_mahalanobis_distance_npy(X_i,X_j=None,w=None,numThreads=32):\n",
    "    # W has shape dim x dim\n",
    "    # X_i, X_y have shape n x dim, m x dim\n",
    "    # return Mahalanobis distance between pairs n x m \n",
    "    if X_j is None:\n",
    "        if w is None or isinstance(w,str):\n",
    "            return pairwise_distances(X_i,metric=w,n_jobs=numThreads) #cdist .. ,X_j)\n",
    "        else:\n",
    "            if w.ndim == 2 and w.shape[0]==w.shape[1]:\n",
    "                return pairwise_distances(X_i,metric=\"mahalanobis\",n_jobs=numThreads,VI =w)    \n",
    "            else:\n",
    "                X_j = X_i\n",
    "    #Transform poins of X_i,X_j according to W\n",
    "    if w is None or isinstance(w,str):\n",
    "        return scipy.spatial.distance.cdist(X_i,X_j,metric=w)\n",
    "    #Assume w is cov matrix of mahalanobis distance\n",
    "    elif w.ndim == 1:\n",
    "        #assume cov=0, scale dims by diagonal\n",
    "        w = np.diag(w)\n",
    "        proj_X_i = np.matmul(X_i,w)\n",
    "        proj_X_j = np.matmul(X_j,w)\n",
    "\n",
    "        #proj_X_i = X_i * w[None,:]\n",
    "        #proj_X_j = X_j * w[None,:]\n",
    "    else: \n",
    "        w = np.transpose(w)\n",
    "        proj_X_i = np.matmul(X_i,w)\n",
    "        proj_X_j = np.matmul(X_j,w)\n",
    "    \n",
    "    return np.linalg.norm(proj_X_i[:,np.newaxis,:]  -  proj_X_j[np.newaxis,:,:],axis=-1)  \n",
    "\n",
    "def plot_w_theta(w_theta=None,M=None,ax=None):\n",
    "    if M is None:\n",
    "        if isinstance(w_theta, torch.Tensor):\n",
    "            W = w_theta.clone().detach().numpy()\n",
    "        else:\n",
    "            W = w_theta\n",
    "        M = np.dot(W,np.transpose(W))\n",
    "    M = M / np.linalg.norm(M)\n",
    "    return plot_ellipses(M,ax=ax)"
   ]
  },
  {
   "cell_type": "code",
   "execution_count": 12,
   "metadata": {},
   "outputs": [],
   "source": [
    "class CustomSyntheticDataset(Dataset):\n",
    "    #The __init__ function is run once when instantiating the Dataset object.\n",
    "    def __init__(self, *args, **kwargs):\n",
    "        #Generate syntehtic data\n",
    "        distributions, distributions_labels, points, point_labels, distribution_modes = get_pointcloud(*args, **kwargs)\n",
    "\n",
    "        #Population-level \n",
    "        self.distributions = distributions\n",
    "        self.distributions_labels = distributions_labels\n",
    "        self.distribution_modes = distribution_modes\n",
    "\n",
    "        #Unit-level \n",
    "        self.datapoints = points \n",
    "        self.datapoints_labels = point_labels\n",
    "\n",
    "        #Triplets\n",
    "        self.triplets = create_t_triplets(distributions,distributions_labels,**kwargs)\n",
    "\n",
    "    def __len__(self):\n",
    "        #Datapoints to train are always given as triplets\n",
    "        return len(self.triplets)\n",
    "\n",
    "    def __getitem__(self, idx):\n",
    "        #Returns elements and labels of triplet at idx\n",
    "        i,j,k = self.triplets[idx]\n",
    "        return np.stack((self.distributions[i],self.distributions[j],self.distributions[k]),dtype=\"f\"),np.stack((self.distributions_labels[i],self.distributions_labels[j],self.distributions_labels[k]),dtype=\"f\")\n",
    "    \n",
    "    def get_raw_distributions(self):\n",
    "        return self.distributions,self.distributions_labels\n",
    "    \n",
    "    def compute_OT_on_dists(self,ground_metric = None,w = None,legend=\"Side\"):\n",
    "        D = np.zeros((len(self.distributions),len(self.distributions)))\n",
    "        for i,distribution_i in enumerate(self.distributions):\n",
    "            for j,distribution_j in enumerate(self.distributions):\n",
    "                if i < j:\n",
    "                    if w is not None:\n",
    "                        M = pairwise_mahalanobis_distance_npy(distribution_i,distribution_j,w)\n",
    "                        D[i,j] = ot.emd2([],[],M)\n",
    "                else:\n",
    "                    D[i,j]=D[j,i]\n",
    "        \n",
    "        hardcoded_symbols = [i % 10 for i in range(len(self.distributions))]\n",
    "        plot_emb(D,method='umap',colors=self.distributions_labels,symbols=hardcoded_symbols,legend=legend,title=\"UMAP\",verbose=True,cmap=sns.cubehelix_palette(as_cmap=True),annotation=None,s=200)\n",
    "\n",
    "        hier_clustering(D,self.distributions_labels, ax=None,cmap=sns.cubehelix_palette(as_cmap=False,n_colors=len(np.unique(self.distributions_labels))),dist_name=\"W_θ\")\n",
    "        return D"
   ]
  },
  {
   "cell_type": "code",
   "execution_count": 13,
   "metadata": {},
   "outputs": [
    {
     "data": {
      "image/png": "[encoded data removed]",
      "text/plain": [
       "<Figure size 600x500 with 1 Axes>"
      ]
     },
     "metadata": {},
     "output_type": "display_data"
    },
    {
     "data": {
      "text/plain": [
       "'\\nfeat_dim = next(iter(train_dataset))[0].shape[-1]\\n\\nw = np.ones((feat_dim))\\ntraining_data.compute_OT_on_dists(w = w,legend=None)\\n\\nw = np.zeros((feat_dim))\\nw[0] = 1\\ntraining_data.compute_OT_on_dists(w = w,legend=None) #euclidean\\n'"
      ]
     },
     "execution_count": 13,
     "metadata": {},
     "output_type": "execute_result"
    }
   ],
   "source": [
    "neighbor_t = [3] #,5,7\n",
    "rank_k = [5] #,10,25,50,100,200] \n",
    "\n",
    "alphas = [0.1,1,10,100,1000] #,10,50,100]\n",
    "lambdas = [0.1,1,10,100,1000] #,10,50,100]\n",
    "\n",
    "n = 200\n",
    "means = [5,10,15]\n",
    "label =[0,1,2]\n",
    "offsets = np.arange(0,30,3)+1.5\n",
    "\n",
    "shared_means_x = [0, 40]\n",
    "shared_means_y = [0, 50]\n",
    "\n",
    "training_data = {}\n",
    "train_dataset = {}\n",
    "\n",
    "for t in neighbor_t:\n",
    "        training_data[t] = CustomSyntheticDataset(distribution_size=n, class_means = means, offsets = offsets, shared_means_x=shared_means_x, shared_means_y=shared_means_y, plot=True, varying_size=False,t=t,noise_scale=1,noise_dims=199)\n",
    "        for a in alphas:\n",
    "                for l in lambdas:\n",
    "                        for k in rank_k:\n",
    "\n",
    "\n",
    "                                #training_data[(a,l,t,k)] = \n",
    "                \n",
    "                                train_dataset[(a,l,t,k)] =  DataLoader(training_data[t] , batch_size=128, shuffle=True) #training_data[(a,l,t,k)]\n",
    "\n",
    "#test_data = CustomSyntheticDataset(distribution_size=n, class_means = means, offsets = offsets, shared_means_x=shared_means_x, shared_means_y=shared_means_y, plot=True, varying_size=False)\n",
    "\n",
    "#test_dataset = DataLoader(test_data, batch_size=64, shuffle=True)\n",
    "\n",
    "#PLOTTING\n",
    "'''\n",
    "feat_dim = next(iter(train_dataset))[0].shape[-1]\n",
    "\n",
    "w = np.ones((feat_dim))\n",
    "training_data.compute_OT_on_dists(w = w,legend=None)\n",
    "\n",
    "w = np.zeros((feat_dim))\n",
    "w[0] = 1\n",
    "training_data.compute_OT_on_dists(w = w,legend=None) #euclidean\n",
    "'''\n",
    "\n"
   ]
  },
  {
   "cell_type": "code",
   "execution_count": null,
   "metadata": {},
   "outputs": [],
   "source": []
  },
  {
   "cell_type": "code",
   "execution_count": 14,
   "metadata": {},
   "outputs": [
    {
     "data": {
      "text/plain": [
       "'\\ntrain_features, train_labels = next(iter(train_dataset))\\nprint(f\"Feature batch shape: {train_features.size()}\")\\nprint(f\"Labels batch shape: {train_labels.size()}\")\\n\\n\\ntrpl_distributions = train_features[0]\\ntrpl_label = train_labels[0]\\n\\n\\nplot_distribution(trpl_distributions,trpl_label)\\n\\nplt.show()\\nprint(f\"Example Triplet with Labels: {[l.item() for l in trpl_label]}\")\\n'"
      ]
     },
     "execution_count": 14,
     "metadata": {},
     "output_type": "execute_result"
    }
   ],
   "source": [
    "'''\n",
    "train_features, train_labels = next(iter(train_dataset))\n",
    "print(f\"Feature batch shape: {train_features.size()}\")\n",
    "print(f\"Labels batch shape: {train_labels.size()}\")\n",
    "\n",
    "\n",
    "trpl_distributions = train_features[0]\n",
    "trpl_label = train_labels[0]\n",
    "\n",
    "\n",
    "plot_distribution(trpl_distributions,trpl_label)\n",
    "\n",
    "plt.show()\n",
    "print(f\"Example Triplet with Labels: {[l.item() for l in trpl_label]}\")\n",
    "'''"
   ]
  },
  {
   "cell_type": "code",
   "execution_count": 15,
   "metadata": {},
   "outputs": [
    {
     "data": {
      "text/plain": [
       "'\\nw_euc = torch.from_numpy(np.asarray([[1,0],[0,1]],dtype=\"f\"))\\n\\n\\nw_opt = torch.from_numpy(np.asarray([[1,0],[0,0]],dtype=\"f\"))\\nw_opt.requires_grad_(requires_grad=True) \\n\\n\\nx = torch.from_numpy(np.asarray([[1,0],[1,1],[1,0],[0,1]],dtype=\"f\"))\\ny = torch.from_numpy(np.asarray([[1,0],[1,1],[1,0],[0,1]],dtype=\"f\"))\\nz = torch.from_numpy(np.asarray([[0,0],[0,1],[0,0],[0,1]],dtype=\"f\"))\\n\\nprint(pairwise_mahalanobis_distance(x,y,w_rand))\\nprint(pairwise_mahalanobis_distance(x,y,w_opt))\\n'"
      ]
     },
     "execution_count": 15,
     "metadata": {},
     "output_type": "execute_result"
    }
   ],
   "source": [
    "def pairwise_mahalanobis_distance(X_i,X_j,w):\n",
    "    # W has shape (rank k<=dim) x dim\n",
    "    # X_i, X_y have shape n x dim, m x dim\n",
    "    # return Mahalanobis distance between pairs n x m \n",
    "\n",
    "\n",
    "\n",
    "\n",
    "    #Transform poins of X_i,X_j according to W\n",
    "    if w.dim() == 1:\n",
    "        #assume cov=0, scale dims by diagonal\n",
    "        proj_X_i = X_i * w[None,:]\n",
    "        proj_X_j = X_j * w[None,:]\n",
    "\n",
    "    else: \n",
    "        w = torch.transpose(w,0,1)\n",
    "        proj_X_i = torch.matmul(X_i,w)\n",
    "        proj_X_j = torch.matmul(X_j,w)\n",
    "\n",
    "    return torch.linalg.norm(proj_X_i[:,torch.newaxis,:]  -  proj_X_j[torch.newaxis,:,:],dim=-1)    \n",
    "\n",
    "#Small example with the identity as cov matrix and a cov matrix with var 0 for dim 2 (only consider dim 1)\n",
    "dim = 200 #next(iter(train_dataset))[0].shape[-1] #TODO get dim from dataset object\n",
    "dia_only = False\n",
    "\n",
    "\n",
    "'''\n",
    "w_euc = torch.from_numpy(np.asarray([[1,0],[0,1]],dtype=\"f\"))\n",
    "\n",
    "\n",
    "w_opt = torch.from_numpy(np.asarray([[1,0],[0,0]],dtype=\"f\"))\n",
    "w_opt.requires_grad_(requires_grad=True) \n",
    "\n",
    "\n",
    "x = torch.from_numpy(np.asarray([[1,0],[1,1],[1,0],[0,1]],dtype=\"f\"))\n",
    "y = torch.from_numpy(np.asarray([[1,0],[1,1],[1,0],[0,1]],dtype=\"f\"))\n",
    "z = torch.from_numpy(np.asarray([[0,0],[0,1],[0,0],[0,1]],dtype=\"f\"))\n",
    "\n",
    "print(pairwise_mahalanobis_distance(x,y,w_rand))\n",
    "print(pairwise_mahalanobis_distance(x,y,w_opt))\n",
    "'''\n"
   ]
  },
  {
   "cell_type": "code",
   "execution_count": 16,
   "metadata": {},
   "outputs": [],
   "source": [
    "from tqdm import tqdm\n",
    "\n",
    "lr = 0.01\n",
    "\n",
    "\n",
    "n_threads = 100\n",
    "iterations= 25 #0\n",
    "plot_every_i_iterations = 24\n",
    "save_every_i_iterations = 5\n",
    "\n",
    "def triplet_loss(triplet,w,alpha=torch.scalar_tensor(0.1)):\n",
    "    X_i,X_j,X_k = triplet\n",
    "\n",
    "    D_ij = pairwise_mahalanobis_distance(X_i,X_j,w)\n",
    "    D_jk = pairwise_mahalanobis_distance(X_j,X_k,w)\n",
    "\n",
    "    W_ij = ot.emd2([],[],M=D_ij,log=False,numThreads=n_threads)\n",
    "    W_jk = ot.emd2([],[],M=D_jk,log=False,numThreads=n_threads)\n",
    "\n",
    "\n",
    "    return torch.nn.functional.relu(W_ij -  W_jk + alpha)\n"
   ]
  },
  {
   "cell_type": "code",
   "execution_count": 17,
   "metadata": {},
   "outputs": [],
   "source": [
    "import time\n",
    "\n",
    "results = {}\n",
    "thetas = {}\n",
    "times = {}\n"
   ]
  },
  {
   "cell_type": "code",
   "execution_count": null,
   "metadata": {},
   "outputs": [
    {
     "name": "stderr",
     "output_type": "stream",
     "text": [
      "  0%|          | 0/5 [00:00<?, ?it/s]"
     ]
    },
    {
     "name": "stderr",
     "output_type": "stream",
     "text": [
      "100%|██████████| 5/5 [06:59<00:00, 83.80s/it] \n"
     ]
    },
    {
     "name": "stdout",
     "output_type": "stream",
     "text": [
      "Iteration 0 with Loss  7873.87744140625\n",
      "Average time for neigh 3 and Rank 5 is 419.0049238204956\n"
     ]
    },
    {
     "name": "stderr",
     "output_type": "stream",
     "text": [
      "100%|██████████| 5/5 [06:34<00:00, 78.94s/it]\n"
     ]
    },
    {
     "name": "stdout",
     "output_type": "stream",
     "text": [
      "Iteration 1 with Loss  1003.9234008789062\n",
      "Average time for neigh 3 and Rank 5 is 406.8536754846573\n"
     ]
    },
    {
     "name": "stderr",
     "output_type": "stream",
     "text": [
      "100%|██████████| 5/5 [07:03<00:00, 84.68s/it] \n"
     ]
    },
    {
     "name": "stdout",
     "output_type": "stream",
     "text": [
      "Iteration 2 with Loss  556.775634765625\n",
      "Average time for neigh 3 and Rank 5 is 412.37029488881427\n"
     ]
    },
    {
     "name": "stderr",
     "output_type": "stream",
     "text": [
      "100%|██████████| 5/5 [06:24<00:00, 76.92s/it] \n"
     ]
    },
    {
     "name": "stdout",
     "output_type": "stream",
     "text": [
      "Iteration 3 with Loss  753.7134399414062\n",
      "Average time for neigh 3 and Rank 5 is 405.43555557727814\n"
     ]
    },
    {
     "name": "stderr",
     "output_type": "stream",
     "text": [
      "100%|██████████| 5/5 [05:53<00:00, 70.63s/it] \n"
     ]
    },
    {
     "name": "stdout",
     "output_type": "stream",
     "text": [
      "Iteration 4 with Loss  564.1446533203125\n",
      "Average time for neigh 3 and Rank 5 is 394.9837621212006\n"
     ]
    },
    {
     "name": "stderr",
     "output_type": "stream",
     "text": [
      "100%|██████████| 5/5 [04:43<00:00, 56.72s/it]\n"
     ]
    },
    {
     "name": "stdout",
     "output_type": "stream",
     "text": [
      "Iteration 5 with Loss  502.40362548828125\n",
      "Average time for neigh 3 and Rank 5 is 376.4186849196752\n"
     ]
    },
    {
     "name": "stderr",
     "output_type": "stream",
     "text": [
      "100%|██████████| 5/5 [04:36<00:00, 55.35s/it]\n"
     ]
    },
    {
     "name": "stdout",
     "output_type": "stream",
     "text": [
      "Iteration 6 with Loss  578.3399047851562\n",
      "Average time for neigh 3 and Rank 5 is 362.18392545836315\n"
     ]
    },
    {
     "name": "stderr",
     "output_type": "stream",
     "text": [
      "100%|██████████| 5/5 [04:29<00:00, 53.86s/it]\n"
     ]
    },
    {
     "name": "stdout",
     "output_type": "stream",
     "text": [
      "Iteration 7 with Loss  590.4482421875\n",
      "Average time for neigh 3 and Rank 5 is 350.5767193734646\n"
     ]
    },
    {
     "name": "stderr",
     "output_type": "stream",
     "text": [
      "100%|██████████| 5/5 [04:38<00:00, 55.64s/it]\n"
     ]
    },
    {
     "name": "stdout",
     "output_type": "stream",
     "text": [
      "Iteration 8 with Loss  446.2137145996094\n",
      "Average time for neigh 3 and Rank 5 is 342.53316518995496\n"
     ]
    },
    {
     "name": "stderr",
     "output_type": "stream",
     "text": [
      "100%|██████████| 5/5 [05:28<00:00, 65.60s/it]\n"
     ]
    },
    {
     "name": "stdout",
     "output_type": "stream",
     "text": [
      "Iteration 9 with Loss  590.6021118164062\n",
      "Average time for neigh 3 and Rank 5 is 341.0818557024002\n"
     ]
    },
    {
     "name": "stderr",
     "output_type": "stream",
     "text": [
      "100%|██████████| 5/5 [05:16<00:00, 63.37s/it]\n"
     ]
    },
    {
     "name": "stdout",
     "output_type": "stream",
     "text": [
      "Iteration 10 with Loss  442.7770690917969\n",
      "Average time for neigh 3 and Rank 5 is 338.87767653031784\n"
     ]
    },
    {
     "name": "stderr",
     "output_type": "stream",
     "text": [
      "100%|██████████| 5/5 [04:27<00:00, 53.60s/it]\n"
     ]
    },
    {
     "name": "stdout",
     "output_type": "stream",
     "text": [
      "Iteration 11 with Loss  489.0484313964844\n",
      "Average time for neigh 3 and Rank 5 is 332.97061822811764\n"
     ]
    },
    {
     "name": "stderr",
     "output_type": "stream",
     "text": [
      "100%|██████████| 5/5 [04:37<00:00, 55.57s/it]\n"
     ]
    },
    {
     "name": "stdout",
     "output_type": "stream",
     "text": [
      "Iteration 12 with Loss  362.85888671875\n",
      "Average time for neigh 3 and Rank 5 is 328.73257327079773\n"
     ]
    },
    {
     "name": "stderr",
     "output_type": "stream",
     "text": [
      "100%|██████████| 5/5 [05:31<00:00, 66.27s/it]\n"
     ]
    },
    {
     "name": "stdout",
     "output_type": "stream",
     "text": [
      "Iteration 13 with Loss  430.47772216796875\n",
      "Average time for neigh 3 and Rank 5 is 328.9184650012425\n"
     ]
    },
    {
     "name": "stderr",
     "output_type": "stream",
     "text": [
      "100%|██████████| 5/5 [06:19<00:00, 75.84s/it]\n"
     ]
    },
    {
     "name": "stdout",
     "output_type": "stream",
     "text": [
      "Iteration 14 with Loss  475.9178161621094\n",
      "Average time for neigh 3 and Rank 5 is 332.26966071128845\n"
     ]
    },
    {
     "name": "stderr",
     "output_type": "stream",
     "text": [
      "100%|██████████| 5/5 [05:46<00:00, 69.30s/it]\n"
     ]
    },
    {
     "name": "stdout",
     "output_type": "stream",
     "text": [
      "Iteration 15 with Loss  531.1010131835938\n",
      "Average time for neigh 3 and Rank 5 is 333.15883876383305\n"
     ]
    },
    {
     "name": "stderr",
     "output_type": "stream",
     "text": [
      "100%|██████████| 5/5 [05:58<00:00, 71.66s/it]\n"
     ]
    },
    {
     "name": "stdout",
     "output_type": "stream",
     "text": [
      "Iteration 16 with Loss  547.9548950195312\n",
      "Average time for neigh 3 and Rank 5 is 334.6370548500734\n"
     ]
    },
    {
     "name": "stderr",
     "output_type": "stream",
     "text": [
      "100%|██████████| 5/5 [05:38<00:00, 67.65s/it]\n"
     ]
    },
    {
     "name": "stdout",
     "output_type": "stream",
     "text": [
      "Iteration 17 with Loss  427.19598388671875\n",
      "Average time for neigh 3 and Rank 5 is 334.83854676617517\n"
     ]
    },
    {
     "name": "stderr",
     "output_type": "stream",
     "text": [
      "100%|██████████| 5/5 [05:24<00:00, 64.82s/it]\n"
     ]
    },
    {
     "name": "stdout",
     "output_type": "stream",
     "text": [
      "Iteration 18 with Loss  446.99993896484375\n",
      "Average time for neigh 3 and Rank 5 is 334.27374439490467\n"
     ]
    },
    {
     "name": "stderr",
     "output_type": "stream",
     "text": [
      "100%|██████████| 5/5 [05:43<00:00, 68.76s/it]\n"
     ]
    },
    {
     "name": "stdout",
     "output_type": "stream",
     "text": [
      "Iteration 19 with Loss  602.7608642578125\n",
      "Average time for neigh 3 and Rank 5 is 334.7511550307274\n"
     ]
    },
    {
     "name": "stderr",
     "output_type": "stream",
     "text": [
      "100%|██████████| 5/5 [05:38<00:00, 67.78s/it]\n"
     ]
    },
    {
     "name": "stdout",
     "output_type": "stream",
     "text": [
      "Iteration 20 with Loss  546.1687622070312\n",
      "Average time for neigh 3 and Rank 5 is 334.9479746250879\n"
     ]
    },
    {
     "name": "stderr",
     "output_type": "stream",
     "text": [
      "100%|██████████| 5/5 [05:38<00:00, 67.64s/it]\n"
     ]
    },
    {
     "name": "stdout",
     "output_type": "stream",
     "text": [
      "Iteration 21 with Loss  393.712890625\n",
      "Average time for neigh 3 and Rank 5 is 335.0968515222723\n"
     ]
    },
    {
     "name": "stderr",
     "output_type": "stream",
     "text": [
      "100%|██████████| 5/5 [06:09<00:00, 73.96s/it]\n"
     ]
    },
    {
     "name": "stdout",
     "output_type": "stream",
     "text": [
      "Iteration 22 with Loss  507.68902587890625\n",
      "Average time for neigh 3 and Rank 5 is 336.6050057929495\n"
     ]
    },
    {
     "name": "stderr",
     "output_type": "stream",
     "text": [
      "100%|██████████| 5/5 [06:02<00:00, 72.59s/it]\n"
     ]
    },
    {
     "name": "stdout",
     "output_type": "stream",
     "text": [
      "Iteration 23 with Loss  485.91748046875\n",
      "Average time for neigh 3 and Rank 5 is 337.70361735423404\n"
     ]
    },
    {
     "name": "stderr",
     "output_type": "stream",
     "text": [
      "100%|██████████| 5/5 [06:19<00:00, 75.81s/it]\n"
     ]
    },
    {
     "name": "stdout",
     "output_type": "stream",
     "text": [
      "Iteration 24 with Loss  659.8133544921875\n",
      "Average time for neigh 3 and Rank 5 is 339.35742526054383\n",
      "Compute all OT distances after 24 iterations\n"
     ]
    },
    {
     "data": {
      "image/png": "[encoded data removed]",
      "text/plain": [
       "<Figure size 500x500 with 1 Axes>"
      ]
     },
     "metadata": {},
     "output_type": "display_data"
    },
    {
     "data": {
      "image/png": "[encoded data removed]",
      "text/plain": [
       "<Figure size 500x500 with 6 Axes>"
      ]
     },
     "metadata": {},
     "output_type": "display_data"
    },
    {
     "name": "stderr",
     "output_type": "stream",
     "text": [
      "100%|██████████| 5/5 [06:36<00:00, 79.28s/it] \n"
     ]
    },
    {
     "name": "stdout",
     "output_type": "stream",
     "text": [
      "Iteration 0 with Loss  8486.5625\n",
      "Average time for neigh 3 and Rank 5 is 396.4264016151428\n"
     ]
    },
    {
     "name": "stderr",
     "output_type": "stream",
     "text": [
      "100%|██████████| 5/5 [05:55<00:00, 71.17s/it]\n"
     ]
    },
    {
     "name": "stdout",
     "output_type": "stream",
     "text": [
      "Iteration 1 with Loss  1208.740966796875\n",
      "Average time for neigh 3 and Rank 5 is 376.1322865486145\n"
     ]
    },
    {
     "name": "stderr",
     "output_type": "stream",
     "text": [
      "100%|██████████| 5/5 [11:13<00:00, 134.64s/it]\n"
     ]
    },
    {
     "name": "stdout",
     "output_type": "stream",
     "text": [
      "Iteration 2 with Loss  714.066650390625\n",
      "Average time for neigh 3 and Rank 5 is 475.1603241761525\n"
     ]
    },
    {
     "name": "stderr",
     "output_type": "stream",
     "text": [
      "100%|██████████| 5/5 [06:02<00:00, 72.49s/it]\n"
     ]
    },
    {
     "name": "stdout",
     "output_type": "stream",
     "text": [
      "Iteration 3 with Loss  728.2075805664062\n",
      "Average time for neigh 3 and Rank 5 is 446.98303562402725\n"
     ]
    },
    {
     "name": "stderr",
     "output_type": "stream",
     "text": [
      "100%|██████████| 5/5 [07:34<00:00, 90.97s/it] \n"
     ]
    },
    {
     "name": "stdout",
     "output_type": "stream",
     "text": [
      "Iteration 4 with Loss  665.328125\n",
      "Average time for neigh 3 and Rank 5 is 448.5548484325409\n"
     ]
    },
    {
     "name": "stderr",
     "output_type": "stream",
     "text": [
      "100%|██████████| 5/5 [06:12<00:00, 74.42s/it]\n"
     ]
    },
    {
     "name": "stdout",
     "output_type": "stream",
     "text": [
      "Iteration 5 with Loss  828.3984375\n",
      "Average time for neigh 3 and Rank 5 is 435.8141925732295\n"
     ]
    },
    {
     "name": "stderr",
     "output_type": "stream",
     "text": [
      "100%|██████████| 5/5 [06:12<00:00, 74.53s/it]\n"
     ]
    },
    {
     "name": "stdout",
     "output_type": "stream",
     "text": [
      "Iteration 6 with Loss  631.6524658203125\n",
      "Average time for neigh 3 and Rank 5 is 426.7921074117933\n"
     ]
    },
    {
     "name": "stderr",
     "output_type": "stream",
     "text": [
      "100%|██████████| 5/5 [04:35<00:00, 55.16s/it]\n"
     ]
    },
    {
     "name": "stdout",
     "output_type": "stream",
     "text": [
      "Iteration 7 with Loss  606.3960571289062\n",
      "Average time for neigh 3 and Rank 5 is 407.91600835323334\n"
     ]
    },
    {
     "name": "stderr",
     "output_type": "stream",
     "text": [
      "100%|██████████| 5/5 [06:02<00:00, 72.56s/it]\n"
     ]
    },
    {
     "name": "stdout",
     "output_type": "stream",
     "text": [
      "Iteration 8 with Loss  679.2389526367188\n",
      "Average time for neigh 3 and Rank 5 is 402.90096767743427\n"
     ]
    },
    {
     "name": "stderr",
     "output_type": "stream",
     "text": [
      "100%|██████████| 5/5 [05:52<00:00, 70.56s/it]\n"
     ]
    },
    {
     "name": "stdout",
     "output_type": "stream",
     "text": [
      "Iteration 9 with Loss  511.3882751464844\n",
      "Average time for neigh 3 and Rank 5 is 397.89303586483004\n"
     ]
    },
    {
     "name": "stderr",
     "output_type": "stream",
     "text": [
      "100%|██████████| 5/5 [06:07<00:00, 73.59s/it]\n"
     ]
    },
    {
     "name": "stdout",
     "output_type": "stream",
     "text": [
      "Iteration 10 with Loss  512.9635620117188\n",
      "Average time for neigh 3 and Rank 5 is 395.1712319200689\n"
     ]
    },
    {
     "name": "stderr",
     "output_type": "stream",
     "text": [
      "100%|██████████| 5/5 [06:02<00:00, 72.53s/it]\n"
     ]
    },
    {
     "name": "stdout",
     "output_type": "stream",
     "text": [
      "Iteration 11 with Loss  510.8606872558594\n",
      "Average time for neigh 3 and Rank 5 is 392.4599259495735\n"
     ]
    },
    {
     "name": "stderr",
     "output_type": "stream",
     "text": [
      "100%|██████████| 5/5 [06:05<00:00, 73.09s/it]\n"
     ]
    },
    {
     "name": "stdout",
     "output_type": "stream",
     "text": [
      "Iteration 12 with Loss  471.28839111328125\n",
      "Average time for neigh 3 and Rank 5 is 390.38284078011145\n"
     ]
    },
    {
     "name": "stderr",
     "output_type": "stream",
     "text": [
      "100%|██████████| 5/5 [06:52<00:00, 82.42s/it] \n"
     ]
    },
    {
     "name": "stdout",
     "output_type": "stream",
     "text": [
      "Iteration 13 with Loss  527.2542724609375\n",
      "Average time for neigh 3 and Rank 5 is 391.93300686563765\n"
     ]
    },
    {
     "name": "stderr",
     "output_type": "stream",
     "text": [
      "100%|██████████| 5/5 [09:35<00:00, 115.07s/it]\n"
     ]
    },
    {
     "name": "stdout",
     "output_type": "stream",
     "text": [
      "Iteration 14 with Loss  462.0479736328125\n",
      "Average time for neigh 3 and Rank 5 is 404.16060536702474\n"
     ]
    },
    {
     "name": "stderr",
     "output_type": "stream",
     "text": [
      "100%|██████████| 5/5 [12:44<00:00, 152.86s/it]\n"
     ]
    },
    {
     "name": "stdout",
     "output_type": "stream",
     "text": [
      "Iteration 15 with Loss  529.3444213867188\n",
      "Average time for neigh 3 and Rank 5 is 426.66875925660133\n"
     ]
    },
    {
     "name": "stderr",
     "output_type": "stream",
     "text": [
      "100%|██████████| 5/5 [13:54<00:00, 166.95s/it]\n"
     ]
    },
    {
     "name": "stdout",
     "output_type": "stream",
     "text": [
      "Iteration 16 with Loss  529.1552124023438\n",
      "Average time for neigh 3 and Rank 5 is 450.67396882001094\n"
     ]
    },
    {
     "name": "stderr",
     "output_type": "stream",
     "text": [
      "100%|██████████| 5/5 [12:53<00:00, 154.69s/it]\n"
     ]
    },
    {
     "name": "stdout",
     "output_type": "stream",
     "text": [
      "Iteration 17 with Loss  680.3130493164062\n",
      "Average time for neigh 3 and Rank 5 is 468.6054296625985\n"
     ]
    },
    {
     "name": "stderr",
     "output_type": "stream",
     "text": [
      "100%|██████████| 5/5 [13:10<00:00, 158.18s/it]\n"
     ]
    },
    {
     "name": "stdout",
     "output_type": "stream",
     "text": [
      "Iteration 18 with Loss  607.656982421875\n",
      "Average time for neigh 3 and Rank 5 is 485.56961304263064\n"
     ]
    },
    {
     "name": "stderr",
     "output_type": "stream",
     "text": [
      "100%|██████████| 5/5 [06:57<00:00, 83.56s/it] \n"
     ]
    },
    {
     "name": "stdout",
     "output_type": "stream",
     "text": [
      "Iteration 19 with Loss  548.354736328125\n",
      "Average time for neigh 3 and Rank 5 is 482.18096828460693\n"
     ]
    },
    {
     "name": "stderr",
     "output_type": "stream",
     "text": [
      "100%|██████████| 5/5 [05:51<00:00, 70.27s/it]\n"
     ]
    },
    {
     "name": "stdout",
     "output_type": "stream",
     "text": [
      "Iteration 20 with Loss  720.0325927734375\n",
      "Average time for neigh 3 and Rank 5 is 475.95042817933216\n"
     ]
    },
    {
     "name": "stderr",
     "output_type": "stream",
     "text": [
      "100%|██████████| 5/5 [05:57<00:00, 71.49s/it]\n"
     ]
    },
    {
     "name": "stdout",
     "output_type": "stream",
     "text": [
      "Iteration 21 with Loss  487.1539001464844\n",
      "Average time for neigh 3 and Rank 5 is 470.5638446374373\n"
     ]
    },
    {
     "name": "stderr",
     "output_type": "stream",
     "text": [
      "100%|██████████| 5/5 [05:57<00:00, 71.54s/it] \n"
     ]
    },
    {
     "name": "stdout",
     "output_type": "stream",
     "text": [
      "Iteration 22 with Loss  495.7179870605469\n",
      "Average time for neigh 3 and Rank 5 is 465.65682921202284\n"
     ]
    },
    {
     "name": "stderr",
     "output_type": "stream",
     "text": [
      "100%|██████████| 5/5 [05:47<00:00, 69.55s/it]\n"
     ]
    },
    {
     "name": "stdout",
     "output_type": "stream",
     "text": [
      "Iteration 23 with Loss  383.96319580078125\n",
      "Average time for neigh 3 and Rank 5 is 460.74449367324513\n"
     ]
    },
    {
     "name": "stderr",
     "output_type": "stream",
     "text": [
      "100%|██████████| 5/5 [05:43<00:00, 68.65s/it]\n"
     ]
    },
    {
     "name": "stdout",
     "output_type": "stream",
     "text": [
      "Iteration 24 with Loss  426.848876953125\n",
      "Average time for neigh 3 and Rank 5 is 456.04524695396424\n",
      "Compute all OT distances after 24 iterations\n"
     ]
    },
    {
     "data": {
      "image/png": "[encoded data removed]",
      "text/plain": [
       "<Figure size 500x500 with 1 Axes>"
      ]
     },
     "metadata": {},
     "output_type": "display_data"
    },
    {
     "data": {
      "image/png": "[encoded data removed]",
      "text/plain": [
       "<Figure size 500x500 with 6 Axes>"
      ]
     },
     "metadata": {},
     "output_type": "display_data"
    },
    {
     "name": "stderr",
     "output_type": "stream",
     "text": [
      "100%|██████████| 5/5 [06:16<00:00, 75.35s/it]\n"
     ]
    },
    {
     "name": "stdout",
     "output_type": "stream",
     "text": [
      "Iteration 0 with Loss  9542.1904296875\n",
      "Average time for neigh 3 and Rank 5 is 376.7302830219269\n"
     ]
    },
    {
     "name": "stderr",
     "output_type": "stream",
     "text": [
      "100%|██████████| 5/5 [06:04<00:00, 72.99s/it]\n"
     ]
    },
    {
     "name": "stdout",
     "output_type": "stream",
     "text": [
      "Iteration 1 with Loss  1632.59716796875\n",
      "Average time for neigh 3 and Rank 5 is 370.8332802057266\n"
     ]
    },
    {
     "name": "stderr",
     "output_type": "stream",
     "text": [
      "100%|██████████| 5/5 [05:52<00:00, 70.56s/it]\n"
     ]
    },
    {
     "name": "stdout",
     "output_type": "stream",
     "text": [
      "Iteration 2 with Loss  1012.8358764648438\n",
      "Average time for neigh 3 and Rank 5 is 364.8249754110972\n"
     ]
    },
    {
     "name": "stderr",
     "output_type": "stream",
     "text": [
      "100%|██████████| 5/5 [06:04<00:00, 72.89s/it]\n"
     ]
    },
    {
     "name": "stdout",
     "output_type": "stream",
     "text": [
      "Iteration 3 with Loss  829.3006591796875\n",
      "Average time for neigh 3 and Rank 5 is 364.72899305820465\n"
     ]
    },
    {
     "name": "stderr",
     "output_type": "stream",
     "text": [
      "100%|██████████| 5/5 [05:51<00:00, 70.34s/it]\n"
     ]
    },
    {
     "name": "stdout",
     "output_type": "stream",
     "text": [
      "Iteration 4 with Loss  705.1720581054688\n",
      "Average time for neigh 3 and Rank 5 is 362.119802904129\n"
     ]
    },
    {
     "name": "stderr",
     "output_type": "stream",
     "text": [
      "100%|██████████| 5/5 [05:46<00:00, 69.31s/it]\n"
     ]
    },
    {
     "name": "stdout",
     "output_type": "stream",
     "text": [
      "Iteration 5 with Loss  622.2377319335938\n",
      "Average time for neigh 3 and Rank 5 is 359.52854983011883\n"
     ]
    },
    {
     "name": "stderr",
     "output_type": "stream",
     "text": [
      "100%|██████████| 5/5 [05:40<00:00, 68.08s/it]\n"
     ]
    },
    {
     "name": "stdout",
     "output_type": "stream",
     "text": [
      "Iteration 6 with Loss  421.3395080566406\n",
      "Average time for neigh 3 and Rank 5 is 356.79885074070523\n"
     ]
    },
    {
     "name": "stderr",
     "output_type": "stream",
     "text": [
      "100%|██████████| 5/5 [05:29<00:00, 65.99s/it]\n"
     ]
    },
    {
     "name": "stdout",
     "output_type": "stream",
     "text": [
      "Iteration 7 with Loss  527.1558227539062\n",
      "Average time for neigh 3 and Rank 5 is 353.44575253129005\n"
     ]
    },
    {
     "name": "stderr",
     "output_type": "stream",
     "text": [
      "100%|██████████| 5/5 [05:57<00:00, 71.58s/it]\n"
     ]
    },
    {
     "name": "stdout",
     "output_type": "stream",
     "text": [
      "Iteration 8 with Loss  658.1118774414062\n",
      "Average time for neigh 3 and Rank 5 is 353.9416360590193\n"
     ]
    },
    {
     "name": "stderr",
     "output_type": "stream",
     "text": [
      "100%|██████████| 5/5 [05:40<00:00, 68.19s/it]\n"
     ]
    },
    {
     "name": "stdout",
     "output_type": "stream",
     "text": [
      "Iteration 9 with Loss  646.2963256835938\n",
      "Average time for neigh 3 and Rank 5 is 352.6434890270233\n"
     ]
    },
    {
     "name": "stderr",
     "output_type": "stream",
     "text": [
      "100%|██████████| 5/5 [09:59<00:00, 119.90s/it]\n"
     ]
    },
    {
     "name": "stdout",
     "output_type": "stream",
     "text": [
      "Iteration 10 with Loss  580.8941040039062\n",
      "Average time for neigh 3 and Rank 5 is 375.08383414962077\n"
     ]
    },
    {
     "name": "stderr",
     "output_type": "stream",
     "text": [
      "100%|██████████| 5/5 [07:21<00:00, 88.26s/it] \n"
     ]
    },
    {
     "name": "stdout",
     "output_type": "stream",
     "text": [
      "Iteration 11 with Loss  589.4537963867188\n",
      "Average time for neigh 3 and Rank 5 is 380.60332109530765\n"
     ]
    },
    {
     "name": "stderr",
     "output_type": "stream",
     "text": [
      "100%|██████████| 5/5 [07:27<00:00, 89.43s/it] \n"
     ]
    },
    {
     "name": "stdout",
     "output_type": "stream",
     "text": [
      "Iteration 12 with Loss  535.0281982421875\n",
      "Average time for neigh 3 and Rank 5 is 385.72061922000006\n"
     ]
    },
    {
     "name": "stderr",
     "output_type": "stream",
     "text": [
      "100%|██████████| 5/5 [20:24<00:00, 244.84s/it]\n"
     ]
    },
    {
     "name": "stdout",
     "output_type": "stream",
     "text": [
      "Iteration 13 with Loss  426.15966796875\n",
      "Average time for neigh 3 and Rank 5 is 445.61170819827487\n"
     ]
    },
    {
     "name": "stderr",
     "output_type": "stream",
     "text": [
      "100%|██████████| 5/5 [43:56<00:00, 527.34s/it]\n"
     ]
    },
    {
     "name": "stdout",
     "output_type": "stream",
     "text": [
      "Iteration 14 with Loss  320.82373046875\n",
      "Average time for neigh 3 and Rank 5 is 591.6853517691294\n"
     ]
    },
    {
     "name": "stderr",
     "output_type": "stream",
     "text": [
      "100%|██████████| 5/5 [2:14:44<00:00, 1616.91s/it]  \n"
     ]
    },
    {
     "name": "stdout",
     "output_type": "stream",
     "text": [
      "Iteration 15 with Loss  547.94189453125\n",
      "Average time for neigh 3 and Rank 5 is 1059.9881282448769\n"
     ]
    },
    {
     "name": "stderr",
     "output_type": "stream",
     "text": [
      "100%|██████████| 5/5 [50:35<00:00, 607.17s/it]   \n"
     ]
    },
    {
     "name": "stdout",
     "output_type": "stream",
     "text": [
      "Iteration 16 with Loss  549.794189453125\n",
      "Average time for neigh 3 and Rank 5 is 1176.2161245766808\n"
     ]
    },
    {
     "name": "stderr",
     "output_type": "stream",
     "text": [
      "100%|██████████| 5/5 [17:37<00:00, 211.42s/it]\n"
     ]
    },
    {
     "name": "stdout",
     "output_type": "stream",
     "text": [
      "Iteration 17 with Loss  455.7376403808594\n",
      "Average time for neigh 3 and Rank 5 is 1169.599679629008\n"
     ]
    },
    {
     "name": "stderr",
     "output_type": "stream",
     "text": [
      "100%|██████████| 5/5 [11:17<00:00, 135.45s/it]\n"
     ]
    },
    {
     "name": "stdout",
     "output_type": "stream",
     "text": [
      "Iteration 18 with Loss  492.7274169921875\n",
      "Average time for neigh 3 and Rank 5 is 1143.687596032494\n"
     ]
    },
    {
     "name": "stderr",
     "output_type": "stream",
     "text": [
      "100%|██████████| 5/5 [29:38<00:00, 355.77s/it]\n"
     ]
    },
    {
     "name": "stdout",
     "output_type": "stream",
     "text": [
      "Iteration 19 with Loss  429.0479431152344\n",
      "Average time for neigh 3 and Rank 5 is 1175.446339714527\n"
     ]
    },
    {
     "name": "stderr",
     "output_type": "stream",
     "text": [
      "100%|██████████| 5/5 [1:06:46<00:00, 801.34s/it] \n"
     ]
    },
    {
     "name": "stdout",
     "output_type": "stream",
     "text": [
      "Iteration 20 with Loss  585.3787841796875\n",
      "Average time for neigh 3 and Rank 5 is 1310.2681986150287\n"
     ]
    },
    {
     "name": "stderr",
     "output_type": "stream",
     "text": [
      "100%|██████████| 5/5 [07:51<00:00, 94.36s/it] \n"
     ]
    },
    {
     "name": "stdout",
     "output_type": "stream",
     "text": [
      "Iteration 21 with Loss  554.8671264648438\n",
      "Average time for neigh 3 and Rank 5 is 1272.155851060694\n"
     ]
    },
    {
     "name": "stderr",
     "output_type": "stream",
     "text": [
      "100%|██████████| 5/5 [08:09<00:00, 97.81s/it] \n"
     ]
    },
    {
     "name": "stdout",
     "output_type": "stream",
     "text": [
      "Iteration 22 with Loss  482.5516052246094\n",
      "Average time for neigh 3 and Rank 5 is 1238.1073968825133\n"
     ]
    },
    {
     "name": "stderr",
     "output_type": "stream",
     "text": [
      "100%|██████████| 5/5 [08:36<00:00, 103.26s/it]\n"
     ]
    },
    {
     "name": "stdout",
     "output_type": "stream",
     "text": [
      "Iteration 23 with Loss  491.4309387207031\n",
      "Average time for neigh 3 and Rank 5 is 1208.0317074557145\n"
     ]
    },
    {
     "name": "stderr",
     "output_type": "stream",
     "text": [
      "100%|██████████| 5/5 [08:49<00:00, 105.99s/it]\n"
     ]
    },
    {
     "name": "stdout",
     "output_type": "stream",
     "text": [
      "Iteration 24 with Loss  551.1536865234375\n",
      "Average time for neigh 3 and Rank 5 is 1180.9084090328217\n",
      "Compute all OT distances after 24 iterations\n"
     ]
    },
    {
     "data": {
      "image/png": "[encoded data removed]",
      "text/plain": [
       "<Figure size 500x500 with 1 Axes>"
      ]
     },
     "metadata": {},
     "output_type": "display_data"
    },
    {
     "data": {
      "image/png": "[encoded data removed]",
      "text/plain": [
       "<Figure size 500x500 with 6 Axes>"
      ]
     },
     "metadata": {},
     "output_type": "display_data"
    },
    {
     "name": "stderr",
     "output_type": "stream",
     "text": [
      "100%|██████████| 5/5 [07:35<00:00, 91.15s/it] \n"
     ]
    },
    {
     "name": "stdout",
     "output_type": "stream",
     "text": [
      "Iteration 0 with Loss  7673.44091796875\n",
      "Average time for neigh 3 and Rank 5 is 455.7629692554474\n"
     ]
    },
    {
     "name": "stderr",
     "output_type": "stream",
     "text": [
      "100%|██████████| 5/5 [08:18<00:00, 99.76s/it] \n"
     ]
    },
    {
     "name": "stdout",
     "output_type": "stream",
     "text": [
      "Iteration 1 with Loss  925.7233276367188\n",
      "Average time for neigh 3 and Rank 5 is 477.2828713655472\n"
     ]
    },
    {
     "name": "stderr",
     "output_type": "stream",
     "text": [
      "100%|██████████| 5/5 [08:39<00:00, 103.91s/it]\n"
     ]
    },
    {
     "name": "stdout",
     "output_type": "stream",
     "text": [
      "Iteration 2 with Loss  802.7296142578125\n",
      "Average time for neigh 3 and Rank 5 is 491.3789155483246\n"
     ]
    },
    {
     "name": "stderr",
     "output_type": "stream",
     "text": [
      "100%|██████████| 5/5 [10:24<00:00, 124.99s/it]\n"
     ]
    },
    {
     "name": "stdout",
     "output_type": "stream",
     "text": [
      "Iteration 3 with Loss  697.8797607421875\n",
      "Average time for neigh 3 and Rank 5 is 524.7720795869827\n"
     ]
    },
    {
     "name": "stderr",
     "output_type": "stream",
     "text": [
      "100%|██████████| 5/5 [09:28<00:00, 113.68s/it]\n"
     ]
    },
    {
     "name": "stdout",
     "output_type": "stream",
     "text": [
      "Iteration 4 with Loss  684.2469482421875\n",
      "Average time for neigh 3 and Rank 5 is 533.5028461933136\n"
     ]
    },
    {
     "name": "stderr",
     "output_type": "stream",
     "text": [
      "100%|██████████| 5/5 [07:34<00:00, 90.85s/it] \n"
     ]
    },
    {
     "name": "stdout",
     "output_type": "stream",
     "text": [
      "Iteration 5 with Loss  600.9411010742188\n",
      "Average time for neigh 3 and Rank 5 is 520.296348452568\n"
     ]
    },
    {
     "name": "stderr",
     "output_type": "stream",
     "text": [
      "100%|██████████| 5/5 [08:15<00:00, 99.00s/it] \n"
     ]
    },
    {
     "name": "stdout",
     "output_type": "stream",
     "text": [
      "Iteration 6 with Loss  618.5527954101562\n",
      "Average time for neigh 3 and Rank 5 is 516.6853124414172\n"
     ]
    },
    {
     "name": "stderr",
     "output_type": "stream",
     "text": [
      "100%|██████████| 5/5 [09:10<00:00, 110.02s/it]\n"
     ]
    },
    {
     "name": "stdout",
     "output_type": "stream",
     "text": [
      "Iteration 7 with Loss  678.4754028320312\n",
      "Average time for neigh 3 and Rank 5 is 520.8598847389221\n"
     ]
    },
    {
     "name": "stderr",
     "output_type": "stream",
     "text": [
      "100%|██████████| 5/5 [07:59<00:00, 95.90s/it] \n"
     ]
    },
    {
     "name": "stdout",
     "output_type": "stream",
     "text": [
      "Iteration 8 with Loss  588.7298583984375\n",
      "Average time for neigh 3 and Rank 5 is 516.2651326126522\n"
     ]
    },
    {
     "name": "stderr",
     "output_type": "stream",
     "text": [
      "100%|██████████| 5/5 [08:06<00:00, 97.33s/it] \n"
     ]
    },
    {
     "name": "stdout",
     "output_type": "stream",
     "text": [
      "Iteration 9 with Loss  756.8250122070312\n",
      "Average time for neigh 3 and Rank 5 is 513.3059965610504\n"
     ]
    },
    {
     "name": "stderr",
     "output_type": "stream",
     "text": [
      "100%|██████████| 5/5 [07:37<00:00, 91.41s/it] \n"
     ]
    },
    {
     "name": "stdout",
     "output_type": "stream",
     "text": [
      "Iteration 10 with Loss  683.5385131835938\n",
      "Average time for neigh 3 and Rank 5 is 508.19422032616353\n"
     ]
    },
    {
     "name": "stderr",
     "output_type": "stream",
     "text": [
      "100%|██████████| 5/5 [08:10<00:00, 98.02s/it] \n"
     ]
    },
    {
     "name": "stdout",
     "output_type": "stream",
     "text": [
      "Iteration 11 with Loss  639.875\n",
      "Average time for neigh 3 and Rank 5 is 506.687358935674\n"
     ]
    },
    {
     "name": "stderr",
     "output_type": "stream",
     "text": [
      "100%|██████████| 5/5 [08:38<00:00, 103.67s/it]\n"
     ]
    },
    {
     "name": "stdout",
     "output_type": "stream",
     "text": [
      "Iteration 12 with Loss  568.8436279296875\n",
      "Average time for neigh 3 and Rank 5 is 507.58523669609656\n"
     ]
    },
    {
     "name": "stderr",
     "output_type": "stream",
     "text": [
      "100%|██████████| 5/5 [07:43<00:00, 92.67s/it] \n"
     ]
    },
    {
     "name": "stdout",
     "output_type": "stream",
     "text": [
      "Iteration 13 with Loss  619.4243774414062\n",
      "Average time for neigh 3 and Rank 5 is 504.4261767183031\n"
     ]
    },
    {
     "name": "stderr",
     "output_type": "stream",
     "text": [
      "100%|██████████| 5/5 [07:33<00:00, 90.73s/it] \n"
     ]
    },
    {
     "name": "stdout",
     "output_type": "stream",
     "text": [
      "Iteration 14 with Loss  588.939697265625\n",
      "Average time for neigh 3 and Rank 5 is 501.04241415659584\n"
     ]
    },
    {
     "name": "stderr",
     "output_type": "stream",
     "text": [
      "100%|██████████| 5/5 [07:15<00:00, 87.02s/it] \n"
     ]
    },
    {
     "name": "stdout",
     "output_type": "stream",
     "text": [
      "Iteration 15 with Loss  641.8904418945312\n",
      "Average time for neigh 3 and Rank 5 is 496.92044089734554\n"
     ]
    },
    {
     "name": "stderr",
     "output_type": "stream",
     "text": [
      "100%|██████████| 5/5 [07:15<00:00, 87.04s/it] \n"
     ]
    },
    {
     "name": "stdout",
     "output_type": "stream",
     "text": [
      "Iteration 16 with Loss  407.9015197753906\n",
      "Average time for neigh 3 and Rank 5 is 493.2902578325833\n"
     ]
    },
    {
     "name": "stderr",
     "output_type": "stream",
     "text": [
      "100%|██████████| 5/5 [07:10<00:00, 86.08s/it] \n"
     ]
    },
    {
     "name": "stdout",
     "output_type": "stream",
     "text": [
      "Iteration 17 with Loss  522.2666015625\n",
      "Average time for neigh 3 and Rank 5 is 489.7952647871441\n"
     ]
    },
    {
     "name": "stderr",
     "output_type": "stream",
     "text": [
      "100%|██████████| 5/5 [07:25<00:00, 89.03s/it] \n"
     ]
    },
    {
     "name": "stdout",
     "output_type": "stream",
     "text": [
      "Iteration 18 with Loss  436.9747314453125\n",
      "Average time for neigh 3 and Rank 5 is 487.44486921711973\n"
     ]
    },
    {
     "name": "stderr",
     "output_type": "stream",
     "text": [
      "100%|██████████| 5/5 [07:56<00:00, 95.23s/it] \n"
     ]
    },
    {
     "name": "stdout",
     "output_type": "stream",
     "text": [
      "Iteration 19 with Loss  561.1281127929688\n",
      "Average time for neigh 3 and Rank 5 is 486.88122979402544\n"
     ]
    },
    {
     "name": "stderr",
     "output_type": "stream",
     "text": [
      "100%|██████████| 5/5 [07:39<00:00, 91.84s/it] \n"
     ]
    },
    {
     "name": "stdout",
     "output_type": "stream",
     "text": [
      "Iteration 20 with Loss  505.7742004394531\n",
      "Average time for neigh 3 and Rank 5 is 485.56209326925733\n"
     ]
    },
    {
     "name": "stderr",
     "output_type": "stream",
     "text": [
      "100%|██████████| 5/5 [07:11<00:00, 86.24s/it] \n"
     ]
    },
    {
     "name": "stdout",
     "output_type": "stream",
     "text": [
      "Iteration 21 with Loss  444.19500732421875\n",
      "Average time for neigh 3 and Rank 5 is 483.0916268717159\n"
     ]
    },
    {
     "name": "stderr",
     "output_type": "stream",
     "text": [
      "100%|██████████| 5/5 [08:02<00:00, 96.55s/it] \n"
     ]
    },
    {
     "name": "stdout",
     "output_type": "stream",
     "text": [
      "Iteration 22 with Loss  716.57763671875\n",
      "Average time for neigh 3 and Rank 5 is 483.0772858287977\n"
     ]
    },
    {
     "name": "stderr",
     "output_type": "stream",
     "text": [
      " 20%|██        | 1/5 [02:02<08:08, 122.21s/it]"
     ]
    }
   ],
   "source": [
    "\n",
    "for a,l,t,k in train_dataset.keys():\n",
    "    if (a,l,t,k) in times.keys():\n",
    "        continue\n",
    "\n",
    "    alpha = torch.scalar_tensor(a)\n",
    "    lambda_ = torch.scalar_tensor(l) \n",
    "\n",
    "    #Init Theta according to set rank k\n",
    "    if k is None:\n",
    "        k = dim\n",
    "\n",
    "    if dia_only:\n",
    "        if k is not None:\n",
    "            raise Warning    \n",
    "        w_rand =  torch.distributions.uniform.Uniform(-1,1).sample([dim])\n",
    "        w_euc = torch.ones((dim))\n",
    "    else:\n",
    "        w_rand =  torch.distributions.uniform.Uniform(-1,1).sample([k,dim])   #torch.from_numpy(np.asarray(np.random.uniform(-1,1,(2,2)),dtype=\"f\")) \n",
    "        w_euc = torch.diag(torch.ones((dim)))[:k,:] #TODO prob identity func in torch, yes and its .eye and not .identity!\n",
    "\n",
    "    #TODO check if save to delete (aka how paranoid do i have to be with my tensors)\n",
    "    w_rand.requires_grad_(requires_grad=True)\n",
    "    w_rand.retain_grad()\n",
    "    w_euc.requires_grad_(requires_grad=True) \n",
    "    w_euc.retain_grad()\n",
    "\n",
    "    w_theta = w_rand.clone()\n",
    "    w_theta.requires_grad_(requires_grad=True) \n",
    "    w_theta.retain_grad()\n",
    "\n",
    "    #Init loss\n",
    "    total_loss_random_theta = 0\n",
    "    total_loss_best_theta = 0\n",
    "\n",
    "    losses = []\n",
    "    iteration_losses_total = []\n",
    "\n",
    "    times[(a,l,t,k)] = []\n",
    "    \n",
    "    for i in range(iterations):\n",
    "    #Iterations\n",
    "        start_epoch = time.time()\n",
    "        \n",
    "        optimizer = torch.optim.Adam([w_theta], lr=lr)\n",
    "        iteration_losses = []\n",
    "\n",
    "        #print(type(train_dataset))\n",
    "        #train_dataset_shuffled = random.sample([minibatch for minibatch in train_dataset],k=len(train_dataset))\n",
    "\n",
    "        for triplets, labels in tqdm(train_dataset[(a,l,t,k)]):\n",
    "        #Minibatches\n",
    "            optimizer.zero_grad()\n",
    "            loss = torch.scalar_tensor(0, requires_grad=True) #TODO doesnt actually require gradient\n",
    "            for trip,labels in zip(triplets,labels):\n",
    "            #Triplet\n",
    "\n",
    "                trip.requires_grad_(requires_grad=True)\n",
    "                loss = loss + triplet_loss(trip,w_theta,alpha)\n",
    "\n",
    "                #gradient=w_rand\n",
    "            #Regularization    \n",
    "            loss = loss + lambda_ * torch.linalg.norm(w_theta,ord=1) / len(triplets) #TODO scale one by size of triplets as otherwise batchsize influences weighting of regularization\n",
    "            #loss = loss + torch.linalg.norm(torch.matmul(w_theta.transpose(0,1),w_theta)-torch.eye(dim),ord=1) #penalize derivations from euclidean\n",
    "\n",
    "            loss.backward()\n",
    "\n",
    "            iteration_losses.append(loss.clone().detach().numpy()) #triplet_loss(t,w_rand)\n",
    "\n",
    "            #total_loss_best_theta += triplet_loss(t,w_opt)\n",
    "            optimizer.step()\n",
    "            optimizer.zero_grad()\n",
    "            #w_theta = w_theta - lr * w_theta.grad\n",
    "            #print(f\"Minibatch Loss  {np.average(iteration_losses)}\")\n",
    "\n",
    "            w_theta.grad = None\n",
    "            w_theta.requires_grad_(requires_grad=True)\n",
    "            w_theta.retain_grad()\n",
    "        \n",
    "        losses = np.concatenate((losses,iteration_losses))\n",
    "        iteration_losses_total.append(np.sum(iteration_losses))\n",
    "        print(f\"Iteration {i} with Loss  {np.sum(iteration_losses)}\")\n",
    "\n",
    "        end_epoch = time.time() - start_epoch\n",
    "        times[(a,l,t,k)].append(end_epoch)\n",
    "        \n",
    "        print(f\"Average time for neigh {t} and Rank {k} is {np.average(times[(a,l,t,k)])}\") #\n",
    "\n",
    "\n",
    "        if i%plot_every_i_iterations==0 and i>0:\n",
    "            print(f\"Compute all OT distances after {i} iterations\")\n",
    "            D = training_data[(t)].compute_OT_on_dists(w = w_theta.clone().detach().numpy())    \n",
    "        if i%save_every_i_iterations==0:\n",
    "            thetas[(a,l,t,k)]=w_theta.clone().detach().numpy()\n",
    "            np.save(f\"/home/kuehn/ot_metric_learning/damin-ggml/data/results/learned_parameters/synth_200D/GGML/theta_{a}_{l}_{t}_{k}.npy\",thetas[(a,l,t,k)])\n",
    "\n"
   ]
  },
  {
   "cell_type": "code",
   "execution_count": 11,
   "metadata": {},
   "outputs": [
    {
     "name": "stdout",
     "output_type": "stream",
     "text": [
      "[[64.62701755]]\n"
     ]
    },
    {
     "data": {
      "text/html": [
       "<div>\n",
       "<style scoped>\n",
       "    .dataframe tbody tr th:only-of-type {\n",
       "        vertical-align: middle;\n",
       "    }\n",
       "\n",
       "    .dataframe tbody tr th {\n",
       "        vertical-align: top;\n",
       "    }\n",
       "\n",
       "    .dataframe thead th {\n",
       "        text-align: right;\n",
       "    }\n",
       "</style>\n",
       "<table border=\"1\" class=\"dataframe\">\n",
       "  <thead>\n",
       "    <tr style=\"text-align: right;\">\n",
       "      <th></th>\n",
       "      <th>5</th>\n",
       "    </tr>\n",
       "  </thead>\n",
       "  <tbody>\n",
       "    <tr>\n",
       "      <th>3</th>\n",
       "      <td>64.627018</td>\n",
       "    </tr>\n",
       "  </tbody>\n",
       "</table>\n",
       "</div>"
      ],
      "text/plain": [
       "           5\n",
       "3  64.627018"
      ]
     },
     "metadata": {},
     "output_type": "display_data"
    },
    {
     "name": "stdout",
     "output_type": "stream",
     "text": [
      "\\begin{tabular}{lr}\n",
      "\\toprule\n",
      " & 5 \\\\\n",
      "\\midrule\n",
      "3 & 64.6 \\\\\n",
      "\\bottomrule\n",
      "\\end{tabular}\n",
      "\n"
     ]
    }
   ],
   "source": [
    "table = np.zeros((len(rank_k),len(neighbor_t)))\n",
    "\n",
    "for a,l,t,k in times.keys():\n",
    "    #print(f\"Average time for neigh {t} and Rank {k} is {np.average(times[(a,l,t,k)])}\")\n",
    "    table[rank_k.index(k),neighbor_t.index(t)] = np.average(times[(a,l,t,k)])\n",
    "\n",
    "print(table)\n",
    "\n",
    "from ggml.benchmark import knn_from_dists, plot_table, plot_1split\n",
    "import pandas as pd\n",
    "\n",
    "table_df = pd.DataFrame(data=table,index=rank_k,columns=neighbor_t).transpose()\n",
    "\n",
    "\n",
    "display(table_df)\n",
    "print(table_df.to_latex(index=True,\n",
    "                #formatters={\"name\": str.upper},\n",
    "                float_format=\"{:.1f}\".format,\n",
    "))\n",
    "\n",
    "#7 & 646.02 & 671.54 & 740.73 \\\\"
   ]
  },
  {
   "cell_type": "markdown",
   "metadata": {},
   "source": [
    "\\begin{tabular}{lrrrrr}\n",
    "\\toprule\n",
    " & 5 & 10 & 50 & 100 & 200 \\\\\n",
    "\\midrule\n",
    "1 & 12.9 & 14.5 & 15.8 & 17.0 & 22.3 \\\\\n",
    "3 & 130.4 & 132.5 & 143.3 & 156.0 & 195.8 \\\\\n",
    "5 & 348.6 & 361.3 & 365.2 & 417.3 & 525.4 \\\\\n",
    "7 & NaN & 687.6 & 789.3 & 866.7 & 1040.5 \\\\\n",
    "9 & 1049.1 & 1119.8 & 1249.2 & 1446.2 & 1703.2 \\\\\n",
    "\\bottomrule\n",
    "\\end{tabular}\n",
    "\n"
   ]
  },
  {
   "cell_type": "code",
   "execution_count": null,
   "metadata": {},
   "outputs": [
    {
     "name": "stdout",
     "output_type": "stream",
     "text": [
      "[[-0.9018686     -0.8667987      0.8740431     -0.31665862\n",
      "  -0.29825798    -0.017327456    0.39857355     0.55550355\n",
      "   0.30400637    -0.1275783     -0.03281176     0.38252324\n",
      "  -0.42768687    -0.020853166    0.6105658     -0.44294918\n",
      "   0.558169      -0.8018289     -0.99710035    -0.070035815\n",
      "   0.62519014    -0.13847369     0.4356124      0.5862382\n",
      "   0.094938375    0.03941459    -0.3165639      0.34956792\n",
      "  -0.38345543    -0.20512204    -0.4681703     -0.73885\n",
      "  -0.67385346    -0.016790664    0.2186817      0.7817531\n",
      "   0.34055936    -0.090277426   -1.0075164     -0.54191595\n",
      "  -0.9503801      0.25465286     0.9335425     -0.41629818\n",
      "   0.061096087    0.33574137    -0.9866865     -0.46806234\n",
      "   0.20620053     0.85549325    -0.9679487      0.13933566\n",
      "  -1.1077473      0.734167      -0.15793051    -0.34462655\n",
      "   0.9343213     -0.32629842    -0.7049954      0.05990691\n",
      "  -0.19360301    -0.43318462     0.9069301     -0.49952123\n",
      "  -0.35453635     0.5730622     -0.5571592      0.686908\n",
      "  -0.12091792     0.30654114     0.106993124    0.7947782\n",
      "   0.5344322     -0.9529091      0.5492054     -0.49886316\n",
      "   0.83878624    -0.22537097     0.8240608      0.7924247\n",
      "   0.09609817    -0.61231667    -0.8446605     -0.52259254\n",
      "  -0.5395825      0.5311892     -0.75119245     0.25924322\n",
      "   0.49590147    -0.42915142    -0.8802877     -0.5472864\n",
      "   0.5332533      0.47075486    -1.0644897      0.40169594\n",
      "  -0.86377716     0.23052841    -0.35284588    -0.69626826\n",
      "   0.2899003     -0.37607077     0.46446848    -0.049075548\n",
      "   0.82666737    -0.0036571375   0.050474238    0.4947217\n",
      "  -0.55866885    -0.18791029    -0.38351774     0.3109588\n",
      "   0.31485644    -0.28048924     0.5022496      0.101293415\n",
      "   0.68107736    -0.20746309     0.36365914     0.9371559\n",
      "  -0.9720189     -0.0052364925  -0.9173878     -0.95675206\n",
      "   0.39186397    -0.5277793      0.023114532   -0.10440596\n",
      "  -0.07812752     0.30891198    -0.98852503     0.42136392\n",
      "  -0.626567       0.72783834    -0.73223764    -0.7891255\n",
      "   0.18923666    -0.11742992    -0.29893908     0.9081606\n",
      "   0.59048945    -0.079639494    0.4508775      0.68158877\n",
      "   0.7188288      0.1095592      0.9204825     -0.6391519\n",
      "  -0.2743417      0.6282846     -0.4915129      0.0815889\n",
      "   0.13928004    -0.5400859     -1.0053041     -0.30709592\n",
      "   0.6770867     -0.050054662   -0.08501604     0.3256392\n",
      "  -0.119898       0.41766804     0.24077089     0.49234906\n",
      "   0.5708959     -0.25613227    -0.72619706    -1.0714236\n",
      "  -1.0491724      0.54651475     0.9136606      0.91624814\n",
      "  -0.4236443      0.29853514     0.8478939      0.0025520357\n",
      "  -0.9128858      0.692551      -0.07877407     0.8700494\n",
      "   0.30482483    -0.744779       0.5460526      0.044961605\n",
      "   0.9112299      0.50923574     0.90501267    -0.07111286\n",
      "   0.5970371     -0.36846173     0.7183374     -0.9872553\n",
      "   0.64439803    -0.66317815     0.37473178    -0.5482307\n",
      "  -0.7326372      0.7782237     -0.093553446    0.54104507   ]\n",
      " [ 0.0034315588  -0.49076158    -0.92156154     0.65179294\n",
      "   0.24910972    -0.7339009      0.50055754     0.8200749\n",
      "   0.108589984    0.9377615     -0.012881055   -0.9004427\n",
      "   0.61567175    -0.5597983     -0.51850563     0.1968705\n",
      "   0.94602746    -0.7848835     -0.04740879    -0.07802196\n",
      "   0.9278304     -0.19075039     0.35656992    -0.47622657\n",
      "   0.1885256     -0.55901164    -0.4700054      0.80150497\n",
      "   0.7974835      0.75902385     0.22251664    -0.97159356\n",
      "   0.898609       0.015479347   -0.97168595     0.9325632\n",
      "  -0.3593971      0.5083371     -0.92529726    -0.12966958\n",
      "  -0.5122886     -0.9740348      0.092275254    0.18978477\n",
      "   0.16199383     0.62377423    -0.54993415    -0.21039505\n",
      "  -1.0125251      0.3453716     -0.864447      -0.24788883\n",
      "   0.4462427      0.5207194     -0.59377515    -0.5587894\n",
      "  -0.73147595     0.27570903    -0.99066466    -0.17144655\n",
      "   0.43914375     0.19510257     0.5507416      0.21328019\n",
      "  -0.23473512     0.5685952     -0.83804464     0.09265268\n",
      "  -0.8934025     -0.6866602      0.6857602      0.45444942\n",
      "  -0.15035212     0.15520748    -0.07210915    -0.518859\n",
      "   0.2889747      0.91289485     0.92298037    -0.14923806\n",
      "   0.36161855     0.033336222   -0.15509114    -0.2604037\n",
      "  -0.060974434    0.31388807     0.076855      -0.90083224\n",
      "   0.96931154    -0.75655013     0.62333375     0.8199975\n",
      "  -0.7953526      0.55852115    -0.9973531     -0.113320455\n",
      "   0.79799485     0.8079486     -0.48890638     0.2392317\n",
      "  -1.0306383     -0.3465811     -0.965091      -0.9131112\n",
      "   0.4826401      0.08164415    -0.029023798   -0.019409543\n",
      "   0.45802024     0.38304728     0.84736305     0.12863466\n",
      "   0.27366334    -0.021010375   -0.90092844    -0.014803264\n",
      "  -1.0249454     -0.28630188     0.8803607      0.7338095\n",
      "  -0.5569983     -0.02737935     0.3043561      0.6369785\n",
      "  -0.7089629     -0.68979144    -0.06843593    -1.0192046\n",
      "   0.59670925    -0.14545643    -0.15965755     0.18756062\n",
      "   0.91618097    -0.18625169    -0.22506504    -0.5948036\n",
      "   0.6415297      0.7201015      0.10505619     0.21725678\n",
      "  -0.8421542      0.6309397     -0.3632284     -0.027088769\n",
      "   0.5078962     -1.0035254     -0.033721857    0.4302436\n",
      "  -1.008249       0.71174836    -0.9820116     -0.92209744\n",
      "   0.41088712    -0.49742413     0.8518923      0.17163338\n",
      "  -0.33359262     0.4043588      0.58790016    -0.49861035\n",
      "  -0.05305359    -0.6532622     -0.9020705      0.93875074\n",
      "  -0.085962296   -0.3611387     -0.63472277     0.5052503\n",
      "   0.18825714    -0.93902004     0.8957811      0.16299151\n",
      "   0.8942457     -0.96783745     0.2036226      0.05609808\n",
      "  -0.3195056      0.29064348    -0.38067383     0.38086087\n",
      "   0.859531       0.7109115      0.4763059      0.108568214\n",
      "  -0.15295808     0.9531817     -0.053154893    0.79908234\n",
      "   0.3176762      0.5145486     -0.025666906   -0.9570905\n",
      "   1.0051494      0.6980938      0.022750268   -0.65403366\n",
      "   0.5307904     -0.8073635      0.05719435    -0.8623856    ]\n",
      " [-0.70306367    -0.761664       0.50505805    -0.5059781\n",
      "   0.9593682     -0.14452845     0.25981933    -0.5854419\n",
      "   0.41730157    -0.80753994    -0.118695885    0.7058904\n",
      "   0.59560704     0.32707706     0.1010389     -0.37386826\n",
      "  -0.8702028      0.7406564     -0.0045834268  -0.4257436\n",
      "  -0.4388832      0.32341093     0.36535153    -0.22696175\n",
      "  -0.34210917     0.9076251     -0.4046102     -0.88513875\n",
      "  -0.77415603    -0.513126       0.93988496    -0.32569152\n",
      "  -0.6051798      0.5336788      0.52206755    -0.42820963\n",
      "  -0.01413245     1.0345467      0.823194      -0.83472675\n",
      "  -0.82722765     0.9139305     -0.80140704     0.2706788\n",
      "  -0.20607209     0.40426522    -0.3382017     -0.8920799\n",
      "  -0.7154636      0.985702      -0.43975604     0.82370806\n",
      "   0.67463654    -0.5290655     -0.866994      -0.38107935\n",
      "   0.32963854     0.16832615     0.38712376    -0.08906822\n",
      "   0.35895413     0.29496086     0.5362447      0.009366871\n",
      "  -0.7098182     -0.16521868    -0.50600433     0.9413008\n",
      "   0.5686487      0.07233991     0.21505262    -0.3429511\n",
      "  -0.13929302    -0.058501787   -0.12933324    -0.4456285\n",
      "  -0.50770116     1.0096207     -0.5417877      0.37950256\n",
      "  -0.8810699      0.11924388    -0.9183589      0.78879064\n",
      "  -0.7541058      0.445141       0.31600556    -0.21276303\n",
      "  -0.29064906    -0.5807276      0.18125044    -0.66439855\n",
      "   0.3241721      0.17200185     0.5653394     -0.2184394\n",
      "  -0.81875765     0.80437636    -0.70210105     0.16752636\n",
      "  -0.20026469     0.5489942      0.9545914     -0.60552526\n",
      "   0.091983125   -0.15411285    -0.76044315     0.41951087\n",
      "   0.50178254     0.24285088     1.0344632      0.9188676\n",
      "   0.7257484      0.00036618928 -0.73818797    -0.6126647\n",
      "   0.16341153     0.5218604      0.4578983      0.56810665\n",
      "   0.8626458     -0.056742307    0.6514847      0.896307\n",
      "  -0.24222343     0.7035393      0.18239446     0.4249051\n",
      "   0.10787657    -0.92831975    -0.6602054     -0.7428543\n",
      "  -0.71226794     0.18437003     0.33346498    -0.92075765\n",
      "  -0.4419119     -0.25037107    -0.95080686     0.343773\n",
      "   0.55881876    -0.5736795     -0.38744023     0.2554648\n",
      "  -0.8051436     -0.26245382    -0.07572345     0.4861363\n",
      "   0.44508716     0.5684342      0.075202845    0.7766793\n",
      "  -0.33296147     0.06295637    -0.38048413    -0.52837515\n",
      "   0.038649585   -0.97959906    -0.17318295     0.90560424\n",
      "   0.12245882     0.53803134    -0.60454106     0.22391056\n",
      "   0.44831166    -0.9266503     -0.30293715    -0.53394717\n",
      "   0.921351      -0.49621916    -0.20660096    -0.8067361\n",
      "  -0.1648377     -0.63900566    -0.8932568      0.52915233\n",
      "   0.93550783    -0.33680964     0.3115698      0.17449953\n",
      "   0.1303209     -0.6829484     -0.9160999     -0.5309266\n",
      "   0.22525333    -0.6362772      0.91635334    -0.4176388\n",
      "   0.46419364     0.1443999      0.8101362      0.901162\n",
      "   0.08150516     0.2894787     -0.53649646     0.5318706\n",
      "   0.0059868786  -0.19810031    -0.15720132     0.84354717   ]\n",
      " [-1.9478506      0.2573572      0.3036528      0.31836286\n",
      "   0.016315073    1.0262722      0.61186844     0.15926176\n",
      "  -0.08627338     0.9818065      0.4735108     -0.7050443\n",
      "  -0.3169663     -0.9524854     -0.71201867    -0.9176738\n",
      "  -0.5461827     -0.38491505    -0.32405403     0.38765737\n",
      "   0.97306615     0.4184491     -0.36044258    -0.06993228\n",
      "   0.64700174    -0.4129965     -0.64745766    -0.20950148\n",
      "  -0.72672325     0.34831285    -0.13019246    -0.17100625\n",
      "  -0.32704318    -0.29206777    -0.33763117    -0.14041068\n",
      "   0.8219791      0.18144807     0.28189725     0.6417534\n",
      "   0.9354343     -0.3985961      0.23974253    -0.88539934\n",
      "   0.74818337    -0.27311495     0.11499012     0.5504151\n",
      "  -0.87294394    -0.6795788      1.0565426      0.29132724\n",
      "   0.28479013    -0.2817274     -0.82970506    -0.4330903\n",
      "  -0.679325      -0.36401197    -0.48508725     0.5243107\n",
      "   0.20713523    -0.4785117      0.16287689    -0.96403956\n",
      "   0.7222241     -0.4987754      0.27706882    -0.46371058\n",
      "   0.429537       0.6401195     -0.50404656     0.046755552\n",
      "  -0.87110996     0.1669866     -0.81020266    -0.50843745\n",
      "  -0.9816218     -0.67908186     0.75662076    -0.1414689\n",
      "  -0.23227414    -0.90303683    -0.6666632      0.7292383\n",
      "   0.18508        0.53985685     0.31337968     0.8012867\n",
      "   0.29731745    -0.9190134      0.127232       0.25403115\n",
      "  -0.6042166      0.72736436    -0.10200276    -0.65847164\n",
      "   0.0892371      0.9856273     -0.2491371     -0.9426368\n",
      "  -0.032891244    0.66900754     0.07038682     0.9967153\n",
      "  -0.6033309     -0.20294017     0.83039033    -0.41511267\n",
      "  -0.05804126    -0.3875312      0.24422592    -0.39944482\n",
      "   0.90999615    -0.26174784     0.95635545    -0.31106097\n",
      "  -0.353551      -0.19213624     0.13272908    -0.39036173\n",
      "   0.31421277     0.5232768      0.41782585     0.17111826\n",
      "   0.10466716     0.008668318    0.6759979      0.17250225\n",
      "   0.43315053    -0.77341896     0.15265428    -0.9277513\n",
      "   0.08520074     0.08233211    -0.029182808   -0.5163458\n",
      "   0.36077473     0.09844768     0.8725543      0.7348933\n",
      "   0.85163224    -0.9135466     -0.71576905     0.2724415\n",
      "   0.35621548     0.5716998     -0.020866465    0.12882102\n",
      "  -0.44574538     0.41058406     0.6622345     -0.03405575\n",
      "  -0.8916212      0.4294149      0.27210832     0.8035158\n",
      "  -0.15309782     0.52150774    -0.96918255     0.68970424\n",
      "   0.39667135    -0.9596927      0.2971        -0.8078342\n",
      "  -0.3796712     -0.8278442      0.68315476     0.619941\n",
      "   0.43841392     0.8968414     -0.040022634   -0.7476547\n",
      "   0.63727444     0.6195218     -0.3296285     -0.14004965\n",
      "  -0.22413346    -0.5127164     -0.8357917      0.25834963\n",
      "   0.74898404    -0.4770148     -0.6732602      0.56560695\n",
      "   0.37040246     0.2084366      0.74536633    -0.9005397\n",
      "  -0.23333749    -0.30029246    -0.88335055    -0.492986\n",
      "  -0.34356862     0.70332557     0.789447       0.16110459\n",
      "   0.67653865     0.8294894      0.377355      -0.79121405   ]\n",
      " [-0.0049176463  -0.70270115     0.9061119      1.0023292\n",
      "  -0.13501646    -0.6477756     -0.1605493     -0.9386673\n",
      "   0.45432833    -0.41852105    -0.63907367    -0.060840607\n",
      "   0.48971313     0.13637066     0.62625897    -0.02294852\n",
      "   0.22821811    -0.7518722      0.5645636     -0.055531684\n",
      "   0.37456423    -0.7414945      0.5618687      0.50180894\n",
      "  -0.37784308    -0.719983      -0.7188965     -0.05680166\n",
      "   0.83418965     0.868846       0.023907337    0.673692\n",
      "  -0.41257712    -0.4417386      0.32379517    -0.73212546\n",
      "   0.48227987     0.38370484    -0.27580604     0.21433285\n",
      "  -0.045862176   -0.9789006     -0.7953628      0.07782485\n",
      "  -0.24913007     0.560813       0.11628021     0.18970892\n",
      "   0.43694085     0.6209809     -0.05668988    -0.7686602\n",
      "   0.1813347      0.45233417    -0.6686414      0.29034764\n",
      "   0.67145866     0.0065383953   0.56622875     0.29463795\n",
      "   0.7730964     -0.89312094     0.6008945     -0.24336186\n",
      "   0.25290897    -0.63982785    -0.4665994      0.48728797\n",
      "   0.77141297     0.786414       0.69802845    -0.32521403\n",
      "  -0.9865107      0.47519442    -0.57647616     0.82886016\n",
      "  -0.04574603    -0.47588712     0.38710847    -0.8291277\n",
      "  -0.12497194    -0.52926177    -0.9282883     -0.5320686\n",
      "   0.29722404    -0.31367943     0.5048797      0.43955967\n",
      "  -0.3985332     -0.78209144    -0.15623568     0.18892905\n",
      "   0.34599128     0.23049504    -0.6536878      0.5849715\n",
      "   0.5360039      0.50521916    -0.6838727     -0.66734135\n",
      "   0.64396966    -0.8369969     -1.0115896     -0.8461121\n",
      "  -0.011236547   -0.60070735     0.036032714    0.97250193\n",
      "   0.62684894     0.45158172    -0.116532765   -0.16587271\n",
      "  -0.90351284     0.7126578      0.42410916     0.0028174384\n",
      "   0.020236807    0.6947128     -0.715969      -0.51717144\n",
      "   0.032027286   -0.12006322     0.45744202     0.8629852\n",
      "   0.45663363     0.62651354     0.36691704    -0.5663584\n",
      "  -0.26400462     0.39928526    -0.9840151     -0.13891122\n",
      "  -0.76090246    -0.6349099      0.98788756     0.7077419\n",
      "  -0.37088254     0.6726725     -0.7481814      0.6717094\n",
      "  -0.6790249      0.9145396     -0.36136064     0.86979926\n",
      "   0.4532039     -0.79116917    -0.13068314    -0.41236526\n",
      "  -0.025702488   -0.82007295    -0.6218379     -0.15694526\n",
      "  -0.6008203      0.4913484     -0.3597727     -0.81692314\n",
      "   0.78829104     0.98884636    -0.39041355    -0.426168\n",
      "  -0.45313898    -0.32834804    -0.31296396     0.7271965\n",
      "   0.2435239      0.28259763    -0.9987103      0.81720364\n",
      "   0.76255757     0.32763737    -0.72028035     0.66986233\n",
      "  -0.40845683    -0.9960695      0.29022914     0.47100556\n",
      "   0.40255556     0.90617746    -0.31839448    -0.17512871\n",
      "   0.14982702    -0.013983038   -0.45719323    -0.6868502\n",
      "   0.8573998     -0.34584993     0.92473257     0.7419814\n",
      "  -0.1614004      0.014765657   -0.8977659     -0.17448843\n",
      "  -0.24073027    -0.96161354     0.55638605    -0.020748585\n",
      "   0.35848668     0.90455437    -0.59297454    -0.47769365   ]]\n",
      "Axes(0.125,0.53;0.352273x0.35)\n",
      "Axes(0.547727,0.11;0.352273x0.35)\n",
      "Axes(0.547727,0.53;0.352273x0.35)\n",
      "Axes(0.125,0.11;0.352273x0.35)\n"
     ]
    },
    {
     "data": {
      "image/png": "[encoded data removed]",
      "text/plain": [
       "<Figure size 480x500 with 4 Axes>"
      ]
     },
     "metadata": {},
     "output_type": "display_data"
    },
    {
     "ename": "AttributeError",
     "evalue": "'dict' object has no attribute 'compute_OT_on_dists'",
     "output_type": "error",
     "traceback": [
      "\u001b[0;31m---------------------------------------------------------------------------\u001b[0m",
      "\u001b[0;31mAttributeError\u001b[0m                            Traceback (most recent call last)",
      "Cell \u001b[0;32mIn[12], line 39\u001b[0m\n\u001b[1;32m     35\u001b[0m \u001b[38;5;28;01mfrom\u001b[39;00m \u001b[38;5;21;01mmatplotlib\u001b[39;00m\u001b[38;5;21;01m.\u001b[39;00m\u001b[38;5;21;01mpyplot\u001b[39;00m \u001b[38;5;28;01mimport\u001b[39;00m figure\n\u001b[1;32m     37\u001b[0m figure(figsize\u001b[38;5;241m=\u001b[39m(\u001b[38;5;241m3\u001b[39m, \u001b[38;5;241m3\u001b[39m), dpi\u001b[38;5;241m=\u001b[39m\u001b[38;5;241m80\u001b[39m)\n\u001b[0;32m---> 39\u001b[0m \u001b[43mtraining_data\u001b[49m\u001b[38;5;241;43m.\u001b[39;49m\u001b[43mcompute_OT_on_dists\u001b[49m(w \u001b[38;5;241m=\u001b[39m w_theta\u001b[38;5;241m.\u001b[39mclone()\u001b[38;5;241m.\u001b[39mdetach()\u001b[38;5;241m.\u001b[39mnumpy(),legend\u001b[38;5;241m=\u001b[39m\u001b[38;5;28;01mNone\u001b[39;00m)\n",
      "\u001b[0;31mAttributeError\u001b[0m: 'dict' object has no attribute 'compute_OT_on_dists'"
     ]
    },
    {
     "data": {
      "text/plain": [
       "<Figure size 240x240 with 0 Axes>"
      ]
     },
     "metadata": {},
     "output_type": "display_data"
    }
   ],
   "source": [
    "%load_ext autoreload\n",
    "%autoreload 2\n",
    "np.set_printoptions(suppress=True,precision=16)\n",
    "np.save(\"/home/kuehn/ot_metric_learning/damin-ggml/data/results/learned_parameters/synth_200D/GGML/w_theta.npy\",w_theta.clone().detach().numpy())\n",
    "print(w_theta.clone().detach().numpy())\n",
    "fig, axs = plt.subplots(nrows=2, ncols=2, figsize=(3,6))\n",
    "\n",
    "\n",
    "#fig, ax = plt.subplots(figsize=(3,3))\n",
    "ax = plot_w_theta(np.identity(2), ax=axs[0,0])\n",
    "print(ax)\n",
    "ax.set_title(r'Euclidean $d_2$ (Baseline)')\n",
    "ax.get_figure().set_size_inches(4.8,5)\n",
    "\n",
    "ax = plot_w_theta(w_theta.clone().detach().numpy(), ax=axs[1,1])\n",
    "print(ax)\n",
    "ax.set_title(r'Mahalanobis $d_\\theta$ (GGML)')\n",
    "#ax.get_figure().set_size_inches(2.4,5)\n",
    "\n",
    "\n",
    "ax = plot_w_theta(M=np.asarray([[9.85031407, 0.02607956],\n",
    "       [0.02607956, 0.07327278]]), ax=axs[0,1])\n",
    "print(ax)\n",
    "ax.set_title(r'Mahalanobis $d_\\theta$ (NCA)')\n",
    "#ax.get_figure().set_size_inches(2.4,5)\n",
    "\n",
    "\n",
    "ax = plot_w_theta(np.asarray([[1,0],[0,0]]), ax=axs[1,0])\n",
    "print(ax)\n",
    "ax.set_title(r'Groundtruth $d^*$')\n",
    "#ax.get_figure().set_size_inches(2.4,5)\n",
    "\n",
    "plt.tight_layout()\n",
    "plt.show()\n",
    "from matplotlib.pyplot import figure\n",
    "\n",
    "figure(figsize=(3, 3), dpi=80)\n",
    "\n",
    "training_data.compute_OT_on_dists(w = w_theta.clone().detach().numpy(),legend=None)\n"
   ]
  },
  {
   "cell_type": "code",
   "execution_count": null,
   "metadata": {},
   "outputs": [
    {
     "name": "stdout",
     "output_type": "stream",
     "text": [
      "[  0.                  2.16                4.32\n",
      "   6.48                8.64               10.8\n",
      "  12.96               15.120000000000001  17.28\n",
      "  19.44               21.6                23.76\n",
      "  25.92               28.080000000000002  30.240000000000002\n",
      "  32.400000000000006  34.56               36.72\n",
      "  38.88               41.040000000000006  43.2\n",
      "  45.36               47.52               49.68000000000001\n",
      "  51.84               54.                 56.160000000000004\n",
      "  58.32000000000001   60.480000000000004  62.64\n",
      "  64.80000000000001   66.96000000000001   69.12\n",
      "  71.28               73.44               75.60000000000001\n",
      "  77.76               79.92               82.08000000000001\n",
      "  84.24000000000001   86.4                88.56\n",
      "  90.72               92.88000000000001   95.04\n",
      "  97.2                99.36000000000001  101.52000000000001\n",
      " 103.68              105.84              108.\n",
      " 110.16000000000001  112.32000000000001  114.48\n",
      " 116.64000000000001  118.80000000000001  120.96000000000001\n",
      " 123.12              125.28              127.44000000000001\n",
      " 129.60000000000002  131.76000000000002  133.92000000000002\n",
      " 136.08              138.24              140.4\n",
      " 142.56              144.72              146.88\n",
      " 149.04000000000002  151.20000000000002  153.36\n",
      " 155.52              157.68              159.84\n",
      " 162.                164.16000000000003  166.32000000000002\n",
      " 168.48000000000002  170.64000000000001  172.8\n",
      " 174.96              177.12              179.28\n",
      " 181.44              183.60000000000002  185.76000000000002\n",
      " 187.92000000000002  190.08              192.24\n",
      " 194.4               196.56              198.72000000000003\n",
      " 200.88000000000002  203.04000000000002  205.20000000000002\n",
      " 207.36              209.52              211.68\n",
      " 213.84             ]\n",
      "18\n",
      "tensor([[ 2.6928e+00,  9.4094e-02,  7.7571e-01,  4.2913e-01, -5.7408e-01,\n",
      "          7.7411e-01,  7.0753e-01, -8.4062e-01,  2.1958e-01, -2.8280e-01,\n",
      "          2.2210e-01,  7.0679e-01, -1.0563e+00,  4.4689e-01, -5.7884e-01,\n",
      "         -1.8860e-01, -4.3667e-01, -5.0712e-01, -3.3007e-01,  3.8427e-01,\n",
      "          6.8323e-01, -1.2110e-01, -1.8557e-01,  1.1433e-02, -3.0343e-01,\n",
      "         -4.4542e-01,  6.0994e-01, -7.1242e-01, -2.0580e-01, -2.1761e-01,\n",
      "         -4.5937e-01, -4.5357e-01,  8.8458e-01,  5.7164e-01, -5.8974e-01,\n",
      "         -5.0175e-01, -9.9969e-01, -2.0173e-01, -9.9520e-01, -9.4620e-01,\n",
      "         -1.0949e+00, -6.0423e-01, -3.4902e-02,  4.1766e-02, -1.1010e+00,\n",
      "         -6.1130e-01, -1.0600e+00,  3.0196e-01, -3.5832e-01, -2.7287e-02,\n",
      "          8.5237e-01,  8.2953e-01,  2.3943e-01, -4.2648e-01, -8.3661e-01,\n",
      "          6.5641e-01,  8.0954e-01, -6.6793e-02, -3.4720e-01, -2.2945e-01,\n",
      "          5.7286e-01,  2.3299e-01,  1.0700e-01,  7.4106e-01,  1.2377e-01,\n",
      "          7.0455e-01,  6.1786e-01, -3.8098e-01, -7.4013e-01,  7.1493e-01,\n",
      "         -5.3671e-01,  1.0455e-01,  7.1913e-01,  3.1353e-01,  5.9759e-01,\n",
      "         -8.8864e-01, -1.1403e+00, -4.6491e-02, -2.8909e-01,  7.4613e-01,\n",
      "         -7.4134e-01,  3.1726e-01, -1.2048e-01, -5.1121e-01,  5.3926e-02,\n",
      "          6.7778e-01, -9.3780e-01, -3.7900e-01, -4.9207e-01,  9.4085e-02,\n",
      "         -5.7323e-01,  1.3201e-01, -2.3167e-01, -7.0207e-01, -5.6474e-01,\n",
      "          2.6729e-01,  1.5457e-01, -1.1030e+00,  6.6659e-01, -1.0009e+00,\n",
      "          2.1861e-01,  6.0495e-01,  5.8551e-01, -1.0174e-01,  5.4794e-01,\n",
      "          2.7765e-01, -1.8484e-01,  7.8839e-01, -2.1634e-01, -6.4759e-01,\n",
      "          6.1606e-01,  8.5156e-01, -8.4570e-01,  5.8974e-01,  5.7466e-01,\n",
      "         -5.5441e-01,  2.2750e-01, -5.3971e-01,  8.5562e-01,  2.6644e-01,\n",
      "          1.6608e-01, -2.5455e-01,  6.6897e-01,  1.7892e-01, -1.7958e-01,\n",
      "          7.1557e-01,  5.5066e-01,  4.7752e-02, -6.8760e-01,  4.1942e-01,\n",
      "         -6.9865e-01,  4.7444e-01, -6.4841e-01, -7.3472e-01,  6.0242e-02,\n",
      "          5.5865e-01,  7.8291e-01, -5.5207e-02, -6.4376e-01,  7.6741e-01,\n",
      "          3.2344e-02,  1.2161e-02,  4.1440e-01,  7.7806e-01,  7.6000e-01,\n",
      "          8.5909e-01,  7.3594e-01, -1.0902e+00,  4.0215e-01, -3.5660e-01,\n",
      "         -5.6489e-01, -6.2287e-01, -2.2962e-01,  4.7872e-01, -5.8965e-01,\n",
      "          2.3901e-01,  1.6520e-01,  7.9446e-01,  3.0016e-01,  8.9364e-02,\n",
      "          3.5204e-01,  6.0226e-01,  7.7990e-01, -9.7114e-01, -6.7310e-01,\n",
      "         -4.8650e-01,  2.0137e-01,  1.3812e-01,  7.7562e-02, -7.5754e-01,\n",
      "          7.7728e-01,  2.8065e-01,  8.5990e-01,  5.9404e-01, -1.0020e+00,\n",
      "          7.1286e-01,  2.4363e-01, -6.8781e-01, -3.6118e-01,  2.4453e-01,\n",
      "          8.4000e-01, -5.8826e-01,  6.1363e-01, -3.2380e-02,  7.0395e-01,\n",
      "          3.9953e-01, -6.9170e-01,  7.5688e-01,  4.8654e-01, -9.3180e-01,\n",
      "         -1.5662e-01, -3.4581e-01, -6.1513e-01, -8.8540e-01,  1.4455e-01,\n",
      "          2.6061e-01, -1.0194e+00,  6.4431e-01, -7.4916e-02,  6.0682e-01],\n",
      "        [-2.6350e+00, -2.3646e-01,  3.1717e-01, -8.4769e-02, -2.4461e-01,\n",
      "          3.1674e-01, -8.2026e-01,  5.7939e-01,  3.7203e-01, -6.9552e-01,\n",
      "         -1.4078e-01, -2.3374e-01,  5.7951e-01, -4.7614e-01,  1.0194e+00,\n",
      "          3.6757e-01, -2.5712e-01,  8.2142e-01,  1.4111e-01, -7.0396e-01,\n",
      "         -8.1672e-01, -1.0240e+00, -4.5050e-01,  2.9582e-01, -6.6194e-01,\n",
      "         -6.0043e-01, -1.0041e+00,  6.8705e-01,  8.6878e-01, -3.2211e-01,\n",
      "          5.7951e-01,  4.0795e-01, -3.1659e-01,  1.2441e-01, -3.2272e-01,\n",
      "         -3.3698e-01,  9.6516e-01, -5.2419e-01,  4.4286e-01, -7.8109e-01,\n",
      "         -1.0186e+00,  3.2179e-01, -3.6967e-02, -7.7070e-01,  9.7844e-01,\n",
      "          8.3454e-02,  5.1538e-01, -9.3462e-01,  1.0163e-01, -1.4894e-01,\n",
      "         -4.1036e-01,  6.2652e-01, -3.3544e-01, -5.7647e-01, -8.6233e-01,\n",
      "          4.9441e-01,  2.6776e-01, -9.1354e-01,  9.0597e-01, -8.6217e-01,\n",
      "          9.5061e-01, -4.0169e-01,  4.3310e-01,  8.1885e-01,  2.7520e-01,\n",
      "         -7.5128e-01,  1.0147e+00,  6.4182e-01, -3.6950e-01,  1.1060e-01,\n",
      "          9.2558e-01, -5.7221e-01,  9.2254e-01, -9.5697e-01,  2.3222e-02,\n",
      "         -7.4231e-01,  2.3396e-01, -9.1945e-01, -4.2228e-01, -3.7281e-01,\n",
      "          8.4237e-01, -2.3632e-01, -3.7525e-01, -1.5699e-01, -1.6458e-01,\n",
      "          4.3914e-01,  7.3071e-01, -5.4946e-01,  4.8906e-01,  8.0849e-01,\n",
      "          1.3957e-01,  7.1764e-01,  2.1345e-01, -9.1002e-01,  5.9564e-01,\n",
      "          3.3321e-01,  3.8186e-01,  4.1348e-01,  2.7063e-01,  5.5955e-02,\n",
      "          3.7432e-01,  7.1955e-01,  4.3518e-01,  1.5833e-01,  7.3338e-01,\n",
      "          9.7251e-01,  9.6581e-01, -4.8348e-01, -6.2601e-01, -8.8993e-01,\n",
      "         -7.9838e-02,  6.2476e-01,  1.4209e-01,  5.9607e-01, -5.1701e-01,\n",
      "          3.0387e-01, -2.1367e-01, -3.2723e-01, -8.4392e-01, -6.3823e-01,\n",
      "         -8.6782e-01,  5.7616e-01, -7.9950e-01,  8.9422e-01, -1.0406e-01,\n",
      "         -3.5459e-01,  5.7318e-01, -1.5866e-02,  2.0659e-01,  4.6375e-01,\n",
      "         -3.1808e-01,  6.5142e-01, -1.8810e-01,  5.2236e-01,  2.3067e-01,\n",
      "          2.5058e-01,  5.0659e-01,  1.2106e-01,  6.9872e-01,  2.5364e-01,\n",
      "         -7.7114e-02,  5.6121e-01,  2.7701e-01,  7.9533e-01, -3.6357e-01,\n",
      "         -9.3525e-01, -2.6333e-01,  5.3725e-01, -1.0011e+00, -7.3970e-01,\n",
      "          5.1397e-01,  5.4263e-01,  4.8553e-01, -1.8496e-01, -5.7466e-01,\n",
      "          5.9797e-01, -3.3639e-01,  6.6078e-01, -6.4668e-01,  4.7997e-01,\n",
      "         -8.3111e-01,  7.9449e-01,  1.1299e-02,  8.0321e-01,  1.2353e-01,\n",
      "          4.1766e-01,  6.0560e-01,  5.0335e-01, -4.2858e-01,  5.3240e-01,\n",
      "          5.9190e-01, -5.7229e-01, -2.6322e-01, -9.3787e-01,  5.9151e-01,\n",
      "         -1.1640e-01,  7.0437e-01, -5.5349e-01,  6.0029e-01, -3.4691e-01,\n",
      "         -1.6046e-01, -3.8068e-01, -7.0436e-01, -9.7403e-01, -3.6060e-01,\n",
      "         -9.4604e-01, -6.0570e-01,  2.3778e-01, -2.1738e-01,  5.0643e-01,\n",
      "         -3.6054e-01, -5.1925e-01,  8.1356e-01, -9.3314e-01, -4.2819e-01,\n",
      "         -3.9264e-01, -3.0840e-01,  6.1234e-01, -4.4967e-01, -5.9507e-01],\n",
      "        [ 2.5307e+00, -9.3679e-01,  8.4041e-01, -4.1390e-01,  2.0560e-01,\n",
      "          4.3000e-01, -9.5056e-01, -7.6580e-01, -2.5842e-02, -1.2349e-01,\n",
      "          7.2139e-03,  9.1274e-01,  4.4193e-01,  4.5113e-01,  9.4818e-01,\n",
      "          2.0325e-01, -9.0409e-01, -3.5279e-01, -2.7906e-01,  8.3671e-01,\n",
      "         -2.9574e-01, -2.7499e-01, -7.9243e-02, -3.1103e-02,  5.8707e-01,\n",
      "          5.4974e-01, -4.4030e-01,  6.8044e-01,  5.3501e-01, -2.8863e-01,\n",
      "         -4.3167e-01, -9.6123e-02, -5.1214e-02, -8.5419e-01, -1.0131e+00,\n",
      "          2.6056e-02, -3.0786e-01, -4.5819e-02,  5.2787e-01, -9.2258e-01,\n",
      "         -8.3027e-01, -3.2341e-01,  2.5977e-01,  4.7798e-02,  2.0388e-01,\n",
      "         -1.9009e-01, -3.3322e-01,  8.6541e-01, -2.4621e-01, -6.3590e-01,\n",
      "         -1.8946e-01,  3.0559e-01, -5.7970e-01, -3.2278e-01, -7.0682e-01,\n",
      "          3.2090e-01, -5.4963e-01,  7.1770e-01, -4.6708e-01,  5.2650e-01,\n",
      "          2.1240e-01,  4.1798e-01, -5.1206e-01, -7.4029e-01, -4.8774e-01,\n",
      "         -1.5115e-01, -6.7102e-01, -3.7318e-01, -2.5277e-01, -7.8677e-01,\n",
      "          7.1406e-01, -7.9246e-02,  3.8360e-01, -7.8097e-02, -5.9848e-01,\n",
      "         -3.4245e-01,  9.7787e-01,  6.7000e-01, -4.9001e-01,  8.5363e-02,\n",
      "          2.1123e-01,  2.7563e-01, -2.2059e-01,  1.9197e-01,  8.4244e-01,\n",
      "          2.1285e-01,  3.6693e-01,  4.8567e-02,  8.5618e-01, -6.9529e-01,\n",
      "          9.7700e-01,  5.4064e-01, -3.5371e-02, -3.7931e-01,  8.4921e-01,\n",
      "         -2.5359e-01,  7.3432e-01, -6.0002e-01,  8.0796e-01,  2.1863e-01,\n",
      "         -3.6228e-01,  5.0966e-01, -4.6988e-01,  4.2314e-01, -6.7110e-01,\n",
      "         -2.0580e-02, -4.6002e-01,  6.7581e-01, -9.6074e-01, -4.7162e-01,\n",
      "          2.9534e-01,  6.0307e-01,  7.2181e-01, -2.0884e-01, -8.6660e-01,\n",
      "          9.7669e-01, -1.6025e-01, -2.9371e-01, -1.8163e-01, -8.0191e-01,\n",
      "         -5.3845e-01,  5.4449e-01,  7.2801e-01,  3.7443e-01, -5.6565e-02,\n",
      "         -1.7374e-01,  8.3737e-01, -6.2045e-01,  6.3193e-01,  9.4829e-01,\n",
      "         -4.3360e-01, -2.4808e-01, -2.9217e-01, -5.6509e-02,  4.9593e-01,\n",
      "         -5.3153e-01, -6.2394e-01,  6.5897e-01,  1.6337e-01,  7.9183e-01,\n",
      "         -8.6098e-01, -8.3779e-02, -9.9082e-01, -5.5033e-01, -5.8439e-01,\n",
      "          6.9698e-01,  8.6213e-01, -5.0824e-01,  3.6667e-01, -2.5348e-01,\n",
      "          3.0832e-01,  5.1649e-02, -5.8086e-01,  8.9448e-01,  1.0865e-01,\n",
      "         -6.9437e-01,  4.8280e-01, -5.3521e-01, -8.8110e-01, -4.7458e-01,\n",
      "          7.9664e-01, -6.5101e-01, -9.7703e-02,  4.1209e-01, -4.8609e-01,\n",
      "         -6.4751e-01, -3.6887e-01, -4.7183e-02,  6.3657e-01, -7.7811e-01,\n",
      "         -6.6491e-01,  4.1122e-01,  8.4986e-01, -2.4469e-01,  7.0947e-01,\n",
      "         -7.0528e-01, -5.4512e-01, -3.6501e-01,  9.8897e-01, -7.0463e-01,\n",
      "          9.3711e-01,  5.1566e-01,  8.8816e-01,  1.1571e-01, -9.1982e-01,\n",
      "          9.9351e-01,  7.6802e-01, -2.4824e-01,  3.0998e-01,  8.9791e-01,\n",
      "         -7.9556e-01, -2.4568e-01,  3.5046e-01,  4.1621e-01, -8.4776e-01,\n",
      "         -1.7033e-01,  6.1140e-01, -7.3459e-01,  1.6127e-01,  6.1286e-01],\n",
      "        [-2.5058e+00,  3.4045e-01,  5.8833e-01,  1.0225e-01, -2.3552e-01,\n",
      "         -4.0178e-01, -1.8291e-01, -7.6033e-01, -2.7025e-01,  6.6157e-01,\n",
      "          4.5617e-01, -8.9776e-03,  1.4063e-01, -6.0485e-01, -5.7572e-01,\n",
      "         -9.4038e-01, -6.4720e-01, -6.0748e-01, -1.6423e-01,  6.9533e-01,\n",
      "          4.4062e-01,  6.6505e-01, -5.8508e-01,  1.5483e-01,  6.6945e-01,\n",
      "         -9.2966e-01, -9.2185e-01,  5.5948e-01,  6.1619e-01,  3.8837e-01,\n",
      "         -2.1123e-01,  1.0106e+00, -3.6105e-01, -8.4695e-01,  6.2447e-01,\n",
      "          7.7304e-01, -3.0023e-01, -4.9066e-01, -4.1181e-01, -5.5546e-01,\n",
      "          1.2568e-01,  3.1089e-01, -9.6999e-01,  4.9732e-01, -5.0482e-01,\n",
      "         -9.1241e-01,  8.5941e-01, -3.4483e-01,  3.8316e-01,  1.0105e+00,\n",
      "         -7.2505e-01,  1.0281e+00, -6.0603e-01, -2.8299e-01,  5.9980e-02,\n",
      "          8.8523e-01,  3.5997e-01, -3.5180e-01,  6.1698e-01, -8.8940e-02,\n",
      "          6.6082e-02, -7.0931e-01, -6.1567e-01, -7.8508e-01, -6.8255e-01,\n",
      "         -4.4289e-01,  3.1947e-01,  2.1412e-01,  4.3194e-01,  7.6718e-01,\n",
      "          9.2657e-02,  8.9666e-01, -7.7781e-01,  1.1960e-01,  4.4471e-01,\n",
      "         -2.8018e-01,  1.0238e+00,  6.2892e-01,  5.6592e-01, -6.0156e-01,\n",
      "         -1.7563e-01,  2.4347e-01, -3.2228e-01,  5.6857e-01,  6.0543e-01,\n",
      "          9.4943e-01, -2.0773e-01,  3.2948e-01,  8.1550e-01, -7.3430e-01,\n",
      "          1.1830e-01,  6.0466e-01, -5.4766e-02,  3.3383e-01,  5.7383e-02,\n",
      "         -6.9214e-01,  9.0252e-01,  6.6019e-01,  6.3962e-01, -4.2575e-01,\n",
      "         -2.2952e-01, -3.9066e-01,  6.4059e-01,  9.6563e-01,  1.4692e-01,\n",
      "         -4.9944e-01, -6.2626e-01,  1.1197e-02, -9.1871e-01,  6.7314e-01,\n",
      "          8.3085e-01,  9.8568e-01,  2.8093e-01, -6.1568e-01, -8.9907e-01,\n",
      "          9.6185e-01, -4.1281e-01, -2.0997e-01,  8.9351e-01, -9.3284e-02,\n",
      "          9.0242e-01,  1.0006e+00, -7.4509e-02, -1.7414e-01, -8.7255e-01,\n",
      "          8.6816e-01,  2.6073e-01,  4.0937e-01,  7.3354e-01,  1.3974e-01,\n",
      "         -5.9130e-01, -6.8633e-01, -3.7444e-02,  2.0872e-01,  8.8457e-01,\n",
      "          3.5700e-01, -9.5488e-02,  7.0935e-01, -1.9498e-01,  5.6135e-01,\n",
      "         -5.8702e-01,  9.0428e-01,  3.8507e-01, -6.7596e-01, -5.8536e-01,\n",
      "         -6.2180e-01, -8.3277e-01,  6.1953e-02, -5.1224e-01, -2.1174e-01,\n",
      "          4.2880e-01, -9.4658e-01, -6.6773e-01, -3.1751e-01,  1.7911e-02,\n",
      "          2.2460e-01, -9.0612e-01, -3.9034e-01,  7.3753e-01, -6.6630e-01,\n",
      "         -3.7704e-01, -5.7501e-01, -9.3985e-01,  2.7021e-01, -8.4810e-01,\n",
      "          2.5385e-01, -6.6769e-01, -3.6037e-01, -3.2094e-01,  3.9835e-01,\n",
      "         -6.2606e-01,  5.0033e-01,  2.6909e-01,  2.1122e-01,  9.5979e-01,\n",
      "          8.2409e-01, -7.8443e-01, -1.1907e-01,  9.1856e-01,  5.9652e-01,\n",
      "          7.5722e-01, -1.6787e-01,  4.7360e-01, -9.2446e-01, -8.6848e-01,\n",
      "         -6.8699e-02, -1.2984e-01, -9.6011e-01,  2.7155e-01, -5.4277e-01,\n",
      "         -7.8363e-01,  8.7932e-01, -2.4358e-01,  6.4202e-01, -6.1116e-01,\n",
      "         -7.6543e-01,  9.7999e-01, -4.6717e-01,  4.2709e-01, -9.6432e-01],\n",
      "        [-2.6417e+00, -6.4832e-01, -6.6860e-02, -6.9054e-01, -3.0190e-01,\n",
      "         -3.1162e-01,  7.5744e-01, -8.7976e-01,  4.4062e-01,  2.2027e-01,\n",
      "          6.5967e-01,  5.9860e-01,  6.8465e-01, -9.5600e-01, -6.2239e-01,\n",
      "         -3.0512e-01, -8.6582e-02, -7.7771e-01, -6.2370e-01, -9.9429e-01,\n",
      "          1.0245e+00,  6.8637e-01,  8.6049e-01, -6.4337e-01,  3.5617e-01,\n",
      "          7.4902e-01, -5.1029e-01, -3.2532e-01,  3.8987e-01, -5.9204e-01,\n",
      "          7.8953e-01,  3.9416e-01, -9.1034e-01,  8.3349e-01, -5.2876e-01,\n",
      "          9.6501e-01,  1.4255e-01,  1.0993e-03, -5.4935e-01, -3.3365e-01,\n",
      "          9.5485e-01,  5.3065e-01, -6.1810e-01, -7.2310e-01, -9.5953e-01,\n",
      "         -9.6379e-01,  5.9712e-01,  7.1793e-01,  8.2668e-01,  3.0397e-01,\n",
      "          3.3978e-01,  4.2909e-01,  9.1654e-01, -3.5437e-01,  8.5700e-01,\n",
      "         -1.9147e-01, -7.5753e-01,  5.6661e-01, -2.9530e-01,  5.5440e-01,\n",
      "         -2.5172e-01, -3.4758e-01, -6.1778e-01,  7.7242e-03,  6.6961e-01,\n",
      "         -6.3836e-01,  6.5760e-01,  4.5932e-01, -4.3815e-01,  1.7441e-01,\n",
      "         -5.8308e-01,  2.8966e-01, -3.9381e-01,  9.4504e-01,  5.7404e-01,\n",
      "         -4.5497e-01, -7.0248e-01,  3.1804e-01,  6.8141e-01,  3.0253e-01,\n",
      "         -3.1638e-01,  9.0739e-01,  5.8011e-01, -7.4543e-01, -2.6104e-01,\n",
      "          2.2189e-01,  6.5243e-01, -3.9387e-01,  9.3140e-01,  4.0776e-01,\n",
      "         -4.8216e-01,  9.0301e-01, -3.8511e-01, -4.1705e-01, -8.1625e-01,\n",
      "         -4.9399e-02,  9.6731e-01,  1.7450e-01, -6.7690e-01, -8.1947e-01,\n",
      "         -5.6481e-02, -5.7434e-01,  5.3714e-01,  5.9127e-01, -3.0461e-01,\n",
      "         -8.6405e-01,  1.9699e-01,  7.1851e-02, -5.1032e-01,  5.6210e-01,\n",
      "         -5.4736e-02,  5.7524e-01,  7.2445e-01,  2.8662e-01, -5.5110e-01,\n",
      "          1.2251e-01,  3.0779e-02,  3.5145e-01,  9.0875e-01,  2.6261e-01,\n",
      "          3.4912e-01,  3.8884e-01, -4.6336e-01, -8.0151e-01, -6.8771e-01,\n",
      "         -1.7128e-03,  7.2393e-01, -5.2295e-01, -2.6735e-02,  3.5436e-01,\n",
      "          4.8980e-01,  3.6860e-02, -3.1332e-01,  1.0303e+00,  3.5082e-01,\n",
      "         -4.6695e-01, -8.8847e-01, -1.5467e-02, -1.4075e-01,  5.7763e-01,\n",
      "         -9.9392e-01,  7.5226e-01, -2.7778e-01,  2.9200e-01, -6.5380e-01,\n",
      "         -1.1364e-01, -8.7664e-01, -4.0243e-01, -7.6154e-01,  5.4459e-01,\n",
      "         -4.3762e-01,  5.0904e-02,  8.6388e-01,  5.2569e-01,  7.8308e-02,\n",
      "         -7.7626e-01,  7.1946e-01, -8.7258e-01,  8.3511e-01,  1.7075e-01,\n",
      "          3.9948e-01, -8.0295e-01, -8.7272e-01,  3.7707e-01,  5.0152e-01,\n",
      "          7.5820e-01,  5.7995e-01, -9.6425e-01,  2.4950e-02,  7.8539e-01,\n",
      "          7.3425e-01, -6.5859e-01,  6.8589e-01, -3.0847e-01, -8.8706e-01,\n",
      "          9.0354e-01,  8.5777e-01, -5.7334e-01, -6.1632e-01, -4.2279e-01,\n",
      "         -2.7635e-01, -6.4490e-01,  7.8632e-01,  6.2883e-01,  3.8992e-01,\n",
      "         -2.5090e-01, -5.8783e-01,  8.9438e-01, -8.1502e-01, -1.5830e-01,\n",
      "         -7.7558e-01,  1.0215e-01, -6.8905e-01, -8.5163e-01,  8.7530e-01,\n",
      "         -2.4882e-02, -1.0051e+00,  8.7156e-01, -8.7453e-01, -5.2969e-01]],\n",
      "       grad_fn=<CloneBackward0>)\n"
     ]
    },
    {
     "ename": "ValueError",
     "evalue": "x and y must have same first dimension, but have shapes (100,) and (18,)",
     "output_type": "error",
     "traceback": [
      "\u001b[0;31m---------------------------------------------------------------------------\u001b[0m",
      "\u001b[0;31mValueError\u001b[0m                                Traceback (most recent call last)",
      "Cell \u001b[0;32mIn[26], line 9\u001b[0m\n\u001b[1;32m      7\u001b[0m \u001b[38;5;66;03m#fig, ax = plt.subplots()\u001b[39;00m\n\u001b[1;32m      8\u001b[0m plt\u001b[38;5;241m.\u001b[39mplot(t, losses, label \u001b[38;5;241m=\u001b[39m \u001b[38;5;124m\"\u001b[39m\u001b[38;5;124mloss minibatches\u001b[39m\u001b[38;5;124m\"\u001b[39m)\n\u001b[0;32m----> 9\u001b[0m \u001b[43mplt\u001b[49m\u001b[38;5;241;43m.\u001b[39;49m\u001b[43mplot\u001b[49m\u001b[43m(\u001b[49m\u001b[43mt2\u001b[49m\u001b[43m,\u001b[49m\u001b[43m \u001b[49m\u001b[43m[\u001b[49m\u001b[43ml\u001b[49m\u001b[38;5;241;43m/\u001b[39;49m\u001b[43mdatapoints_per_iteration\u001b[49m\u001b[43m \u001b[49m\u001b[38;5;28;43;01mfor\u001b[39;49;00m\u001b[43m \u001b[49m\u001b[43ml\u001b[49m\u001b[43m \u001b[49m\u001b[38;5;129;43;01min\u001b[39;49;00m\u001b[43m \u001b[49m\u001b[43miteration_losses_total\u001b[49m\u001b[43m]\u001b[49m\u001b[43m,\u001b[49m\u001b[43m \u001b[49m\u001b[43mlabel\u001b[49m\u001b[43m \u001b[49m\u001b[38;5;241;43m=\u001b[39;49m\u001b[43m \u001b[49m\u001b[38;5;124;43m\"\u001b[39;49m\u001b[38;5;124;43maverage loss iteration\u001b[39;49m\u001b[38;5;124;43m\"\u001b[39;49m\u001b[43m)\u001b[49m\n\u001b[1;32m     10\u001b[0m plt\u001b[38;5;241m.\u001b[39mlegend() \n\u001b[1;32m     15\u001b[0m \u001b[38;5;66;03m#print(total_loss_best_theta)\u001b[39;00m\n",
      "File \u001b[0;32m~/anaconda3/envs/ggml/lib/python3.12/site-packages/matplotlib/pyplot.py:3794\u001b[0m, in \u001b[0;36mplot\u001b[0;34m(scalex, scaley, data, *args, **kwargs)\u001b[0m\n\u001b[1;32m   3786\u001b[0m \u001b[38;5;129m@_copy_docstring_and_deprecators\u001b[39m(Axes\u001b[38;5;241m.\u001b[39mplot)\n\u001b[1;32m   3787\u001b[0m \u001b[38;5;28;01mdef\u001b[39;00m \u001b[38;5;21mplot\u001b[39m(\n\u001b[1;32m   3788\u001b[0m     \u001b[38;5;241m*\u001b[39margs: \u001b[38;5;28mfloat\u001b[39m \u001b[38;5;241m|\u001b[39m ArrayLike \u001b[38;5;241m|\u001b[39m \u001b[38;5;28mstr\u001b[39m,\n\u001b[0;32m   (...)\u001b[0m\n\u001b[1;32m   3792\u001b[0m     \u001b[38;5;241m*\u001b[39m\u001b[38;5;241m*\u001b[39mkwargs,\n\u001b[1;32m   3793\u001b[0m ) \u001b[38;5;241m-\u001b[39m\u001b[38;5;241m>\u001b[39m \u001b[38;5;28mlist\u001b[39m[Line2D]:\n\u001b[0;32m-> 3794\u001b[0m     \u001b[38;5;28;01mreturn\u001b[39;00m \u001b[43mgca\u001b[49m\u001b[43m(\u001b[49m\u001b[43m)\u001b[49m\u001b[38;5;241;43m.\u001b[39;49m\u001b[43mplot\u001b[49m\u001b[43m(\u001b[49m\n\u001b[1;32m   3795\u001b[0m \u001b[43m        \u001b[49m\u001b[38;5;241;43m*\u001b[39;49m\u001b[43margs\u001b[49m\u001b[43m,\u001b[49m\n\u001b[1;32m   3796\u001b[0m \u001b[43m        \u001b[49m\u001b[43mscalex\u001b[49m\u001b[38;5;241;43m=\u001b[39;49m\u001b[43mscalex\u001b[49m\u001b[43m,\u001b[49m\n\u001b[1;32m   3797\u001b[0m \u001b[43m        \u001b[49m\u001b[43mscaley\u001b[49m\u001b[38;5;241;43m=\u001b[39;49m\u001b[43mscaley\u001b[49m\u001b[43m,\u001b[49m\n\u001b[1;32m   3798\u001b[0m \u001b[43m        \u001b[49m\u001b[38;5;241;43m*\u001b[39;49m\u001b[38;5;241;43m*\u001b[39;49m\u001b[43m(\u001b[49m\u001b[43m{\u001b[49m\u001b[38;5;124;43m\"\u001b[39;49m\u001b[38;5;124;43mdata\u001b[39;49m\u001b[38;5;124;43m\"\u001b[39;49m\u001b[43m:\u001b[49m\u001b[43m \u001b[49m\u001b[43mdata\u001b[49m\u001b[43m}\u001b[49m\u001b[43m \u001b[49m\u001b[38;5;28;43;01mif\u001b[39;49;00m\u001b[43m \u001b[49m\u001b[43mdata\u001b[49m\u001b[43m \u001b[49m\u001b[38;5;129;43;01mis\u001b[39;49;00m\u001b[43m \u001b[49m\u001b[38;5;129;43;01mnot\u001b[39;49;00m\u001b[43m \u001b[49m\u001b[38;5;28;43;01mNone\u001b[39;49;00m\u001b[43m \u001b[49m\u001b[38;5;28;43;01melse\u001b[39;49;00m\u001b[43m \u001b[49m\u001b[43m{\u001b[49m\u001b[43m}\u001b[49m\u001b[43m)\u001b[49m\u001b[43m,\u001b[49m\n\u001b[1;32m   3799\u001b[0m \u001b[43m        \u001b[49m\u001b[38;5;241;43m*\u001b[39;49m\u001b[38;5;241;43m*\u001b[39;49m\u001b[43mkwargs\u001b[49m\u001b[43m,\u001b[49m\n\u001b[1;32m   3800\u001b[0m \u001b[43m    \u001b[49m\u001b[43m)\u001b[49m\n",
      "File \u001b[0;32m~/anaconda3/envs/ggml/lib/python3.12/site-packages/matplotlib/axes/_axes.py:1779\u001b[0m, in \u001b[0;36mAxes.plot\u001b[0;34m(self, scalex, scaley, data, *args, **kwargs)\u001b[0m\n\u001b[1;32m   1536\u001b[0m \u001b[38;5;250m\u001b[39m\u001b[38;5;124;03m\"\"\"\u001b[39;00m\n\u001b[1;32m   1537\u001b[0m \u001b[38;5;124;03mPlot y versus x as lines and/or markers.\u001b[39;00m\n\u001b[1;32m   1538\u001b[0m \n\u001b[0;32m   (...)\u001b[0m\n\u001b[1;32m   1776\u001b[0m \u001b[38;5;124;03m(``'green'``) or hex strings (``'#008000'``).\u001b[39;00m\n\u001b[1;32m   1777\u001b[0m \u001b[38;5;124;03m\"\"\"\u001b[39;00m\n\u001b[1;32m   1778\u001b[0m kwargs \u001b[38;5;241m=\u001b[39m cbook\u001b[38;5;241m.\u001b[39mnormalize_kwargs(kwargs, mlines\u001b[38;5;241m.\u001b[39mLine2D)\n\u001b[0;32m-> 1779\u001b[0m lines \u001b[38;5;241m=\u001b[39m [\u001b[38;5;241m*\u001b[39m\u001b[38;5;28mself\u001b[39m\u001b[38;5;241m.\u001b[39m_get_lines(\u001b[38;5;28mself\u001b[39m, \u001b[38;5;241m*\u001b[39margs, data\u001b[38;5;241m=\u001b[39mdata, \u001b[38;5;241m*\u001b[39m\u001b[38;5;241m*\u001b[39mkwargs)]\n\u001b[1;32m   1780\u001b[0m \u001b[38;5;28;01mfor\u001b[39;00m line \u001b[38;5;129;01min\u001b[39;00m lines:\n\u001b[1;32m   1781\u001b[0m     \u001b[38;5;28mself\u001b[39m\u001b[38;5;241m.\u001b[39madd_line(line)\n",
      "File \u001b[0;32m~/anaconda3/envs/ggml/lib/python3.12/site-packages/matplotlib/axes/_base.py:296\u001b[0m, in \u001b[0;36m_process_plot_var_args.__call__\u001b[0;34m(self, axes, data, *args, **kwargs)\u001b[0m\n\u001b[1;32m    294\u001b[0m     this \u001b[38;5;241m+\u001b[39m\u001b[38;5;241m=\u001b[39m args[\u001b[38;5;241m0\u001b[39m],\n\u001b[1;32m    295\u001b[0m     args \u001b[38;5;241m=\u001b[39m args[\u001b[38;5;241m1\u001b[39m:]\n\u001b[0;32m--> 296\u001b[0m \u001b[38;5;28;01myield from\u001b[39;00m \u001b[38;5;28;43mself\u001b[39;49m\u001b[38;5;241;43m.\u001b[39;49m\u001b[43m_plot_args\u001b[49m\u001b[43m(\u001b[49m\n\u001b[1;32m    297\u001b[0m \u001b[43m    \u001b[49m\u001b[43maxes\u001b[49m\u001b[43m,\u001b[49m\u001b[43m \u001b[49m\u001b[43mthis\u001b[49m\u001b[43m,\u001b[49m\u001b[43m \u001b[49m\u001b[43mkwargs\u001b[49m\u001b[43m,\u001b[49m\u001b[43m \u001b[49m\u001b[43mambiguous_fmt_datakey\u001b[49m\u001b[38;5;241;43m=\u001b[39;49m\u001b[43mambiguous_fmt_datakey\u001b[49m\u001b[43m)\u001b[49m\n",
      "File \u001b[0;32m~/anaconda3/envs/ggml/lib/python3.12/site-packages/matplotlib/axes/_base.py:486\u001b[0m, in \u001b[0;36m_process_plot_var_args._plot_args\u001b[0;34m(self, axes, tup, kwargs, return_kwargs, ambiguous_fmt_datakey)\u001b[0m\n\u001b[1;32m    483\u001b[0m     axes\u001b[38;5;241m.\u001b[39myaxis\u001b[38;5;241m.\u001b[39mupdate_units(y)\n\u001b[1;32m    485\u001b[0m \u001b[38;5;28;01mif\u001b[39;00m x\u001b[38;5;241m.\u001b[39mshape[\u001b[38;5;241m0\u001b[39m] \u001b[38;5;241m!=\u001b[39m y\u001b[38;5;241m.\u001b[39mshape[\u001b[38;5;241m0\u001b[39m]:\n\u001b[0;32m--> 486\u001b[0m     \u001b[38;5;28;01mraise\u001b[39;00m \u001b[38;5;167;01mValueError\u001b[39;00m(\u001b[38;5;124mf\u001b[39m\u001b[38;5;124m\"\u001b[39m\u001b[38;5;124mx and y must have same first dimension, but \u001b[39m\u001b[38;5;124m\"\u001b[39m\n\u001b[1;32m    487\u001b[0m                      \u001b[38;5;124mf\u001b[39m\u001b[38;5;124m\"\u001b[39m\u001b[38;5;124mhave shapes \u001b[39m\u001b[38;5;132;01m{\u001b[39;00mx\u001b[38;5;241m.\u001b[39mshape\u001b[38;5;132;01m}\u001b[39;00m\u001b[38;5;124m and \u001b[39m\u001b[38;5;132;01m{\u001b[39;00my\u001b[38;5;241m.\u001b[39mshape\u001b[38;5;132;01m}\u001b[39;00m\u001b[38;5;124m\"\u001b[39m)\n\u001b[1;32m    488\u001b[0m \u001b[38;5;28;01mif\u001b[39;00m x\u001b[38;5;241m.\u001b[39mndim \u001b[38;5;241m>\u001b[39m \u001b[38;5;241m2\u001b[39m \u001b[38;5;129;01mor\u001b[39;00m y\u001b[38;5;241m.\u001b[39mndim \u001b[38;5;241m>\u001b[39m \u001b[38;5;241m2\u001b[39m:\n\u001b[1;32m    489\u001b[0m     \u001b[38;5;28;01mraise\u001b[39;00m \u001b[38;5;167;01mValueError\u001b[39;00m(\u001b[38;5;124mf\u001b[39m\u001b[38;5;124m\"\u001b[39m\u001b[38;5;124mx and y can be no greater than 2D, but have \u001b[39m\u001b[38;5;124m\"\u001b[39m\n\u001b[1;32m    490\u001b[0m                      \u001b[38;5;124mf\u001b[39m\u001b[38;5;124m\"\u001b[39m\u001b[38;5;124mshapes \u001b[39m\u001b[38;5;132;01m{\u001b[39;00mx\u001b[38;5;241m.\u001b[39mshape\u001b[38;5;132;01m}\u001b[39;00m\u001b[38;5;124m and \u001b[39m\u001b[38;5;132;01m{\u001b[39;00my\u001b[38;5;241m.\u001b[39mshape\u001b[38;5;132;01m}\u001b[39;00m\u001b[38;5;124m\"\u001b[39m)\n",
      "\u001b[0;31mValueError\u001b[0m: x and y must have same first dimension, but have shapes (100,) and (18,)"
     ]
    },
    {
     "data": {
      "image/png": "[encoded data removed]",
      "text/plain": [
       "<Figure size 640x480 with 1 Axes>"
      ]
     },
     "metadata": {},
     "output_type": "display_data"
    },
    {
     "ename": "",
     "evalue": "",
     "output_type": "error",
     "traceback": [
      "\u001b[1;31mnotebook controller is DISPOSED. \n",
      "\u001b[1;31mView Jupyter <a href='command:jupyter.viewOutput'>log</a> for further details."
     ]
    },
    {
     "ename": "",
     "evalue": "",
     "output_type": "error",
     "traceback": [
      "\u001b[1;31mnotebook controller is DISPOSED. \n",
      "\u001b[1;31mView Jupyter <a href='command:jupyter.viewOutput'>log</a> for further details."
     ]
    },
    {
     "ename": "",
     "evalue": "",
     "output_type": "error",
     "traceback": [
      "\u001b[1;31mnotebook controller is DISPOSED. \n",
      "\u001b[1;31mView Jupyter <a href='command:jupyter.viewOutput'>log</a> for further details."
     ]
    }
   ],
   "source": [
    "t = np.arange(len(losses))\n",
    "datapoints_per_iteration = len(losses)/iterations\n",
    "t2 = np.arange(0,len(losses),datapoints_per_iteration)\n",
    "print(t2)\n",
    "print(len(iteration_losses_total))\n",
    "print(w_theta)\n",
    "#fig, ax = plt.subplots()\n",
    "plt.plot(t, losses, label = \"loss minibatches\")\n",
    "plt.plot(t2, [l/datapoints_per_iteration for l in iteration_losses_total], label = \"average loss iteration\")\n",
    "plt.legend() \n",
    "\n",
    "\n",
    "\n",
    "\n",
    "#print(total_loss_best_theta)\n"
   ]
  },
  {
   "cell_type": "code",
   "execution_count": null,
   "metadata": {},
   "outputs": [
    {
     "ename": "SyntaxError",
     "evalue": "invalid syntax (2993858587.py, line 1)",
     "output_type": "error",
     "traceback": [
      "\u001b[0;36m  Cell \u001b[0;32mIn[18], line 1\u001b[0;36m\u001b[0m\n\u001b[0;31m    for p1 in\u001b[0m\n\u001b[0m              ^\u001b[0m\n\u001b[0;31mSyntaxError\u001b[0m\u001b[0;31m:\u001b[0m invalid syntax\n"
     ]
    },
    {
     "ename": "",
     "evalue": "",
     "output_type": "error",
     "traceback": [
      "\u001b[1;31mnotebook controller is DISPOSED. \n",
      "\u001b[1;31mView Jupyter <a href='command:jupyter.viewOutput'>log</a> for further details."
     ]
    },
    {
     "ename": "",
     "evalue": "",
     "output_type": "error",
     "traceback": [
      "\u001b[1;31mnotebook controller is DISPOSED. \n",
      "\u001b[1;31mView Jupyter <a href='command:jupyter.viewOutput'>log</a> for further details."
     ]
    },
    {
     "ename": "",
     "evalue": "",
     "output_type": "error",
     "traceback": [
      "\u001b[1;31mnotebook controller is DISPOSED. \n",
      "\u001b[1;31mView Jupyter <a href='command:jupyter.viewOutput'>log</a> for further details."
     ]
    }
   ],
   "source": [
    "for p1 in "
   ]
  }
 ],
 "metadata": {
  "kernelspec": {
   "display_name": "ggml",
   "language": "python",
   "name": "python3"
  },
  "language_info": {
   "codemirror_mode": {
    "name": "ipython",
    "version": 3
   },
   "file_extension": ".py",
   "mimetype": "text/x-python",
   "name": "python",
   "nbconvert_exporter": "python",
   "pygments_lexer": "ipython3",
   "version": "3.12.0"
  }
 },
 "nbformat": 4,
 "nbformat_minor": 2
}
