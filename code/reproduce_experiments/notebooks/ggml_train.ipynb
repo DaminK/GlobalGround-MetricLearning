{
 "cells": [
  {
   "cell_type": "code",
   "execution_count": 10,
   "metadata": {},
   "outputs": [],
   "source": [
    "import sys\n",
    "sys.path.insert(0, '../..')\n",
    "\n",
    "#Import the usual libraries\n",
    "\n",
    "\n",
    "from tqdm import tqdm\n",
    "import time\n",
    "import scipy\n",
    "import os\n",
    "import numpy as np\n",
    "import scanpy as sc\n",
    "import pandas as pd\n",
    "\n",
    "#Data\n",
    "from ggml.generator import get_pointcloud, create_t_triplets\n",
    "from ggml.data_loader import scRNA_Dataset, get_cells_by_patients_2\n",
    "from torch.utils.data import Dataset\n",
    "from torch.utils.data import DataLoader\n",
    "\n",
    "#Global and Ground Metrics\n",
    "from ggml.ggml import ggml \n",
    "from ggml.distances import pairwise_mahalanobis_distance, pairwise_mahalanobis_distance_npy\n",
    "from sklearn.metrics.pairwise import pairwise_distances\n",
    "import ot\n",
    "\n",
    "#Classification\n",
    "from ggml.benchmark import knn_from_dists, plot_table, plot_1split\n",
    "\n",
    "\n",
    "#Plotting\n",
    "from ggml.plot import plot_distribution, plot_emb, hier_clustering, plot_ellipses\n",
    "import matplotlib.pyplot as plt\n",
    "import seaborn as sns"
   ]
  },
  {
   "cell_type": "code",
   "execution_count": 11,
   "metadata": {},
   "outputs": [],
   "source": [
    "demo = True\n",
    "\n",
    "#GGML Hyperparams\n",
    "# You can compute multiple configurations with one run, here we have selected the chosen hyperparams for the myocardial infarction dataset.\n",
    "neighbor_t = [3]\n",
    "rank_k = [5] \n",
    "alphas = [1] \n",
    "lambdas = [10] \n",
    "\n",
    "lr = 0.01\n",
    "dia_only = False #Only allows to scale variances and not covariances\n",
    "\n",
    "#Data\n",
    "dataset_folder = \"/home/kuehn/ot_metric_learning/damin-ggml/data/datasets/\"\n",
    "disease = \"myocard_infarct\"\n",
    "n_cells = 1000 \n",
    "train_split = 0.6\n",
    "splits = 1 if demo else 10\n",
    "\n",
    "pca_comps = None #instead of learning in the gene space we can also learn on PCA components\n",
    "filter_highvar_genes = True \n",
    "\n",
    "#Processing\n",
    "n_threads = 100\n",
    "iterations= 50\n",
    "plot_every_i_iterations = 5\n",
    "save_every_i_iterations = 10"
   ]
  },
  {
   "cell_type": "code",
   "execution_count": 12,
   "metadata": {},
   "outputs": [],
   "source": [
    "if disease == \"myocard_infarct\":\n",
    "    #Myocardial infarction\n",
    "    dataset_name = \"c1f6034b-7973-45e1-85e7-16933d0550bc.h5ad\"\n",
    "    disease = \"myocard_infarct\"\n",
    "    patient_col=\"sample\"\n",
    "    label_col=\"major_labl\"  \n",
    "\n",
    "elif disease == \"kidney\":\n",
    "    #Kidney\n",
    "    disease = \"kidney\"\n",
    "    dataset_name = \"1c360b0b-eb2f-45a3-aba9-056026b39fa5.h5ad\" #\"5ccb0043-bb6f-4f00-b7e1-526d2726de9d.h5ad\"\n",
    "    label_col=\"disease\"\n",
    "    patient_col=\"donor_id\"\n",
    "\n",
    "elif disease == \"breastcancer\":\n",
    "    #Breastcancer\n",
    "    disease = \"breastcancer\"\n",
    "    dataset_name = \"b8b5be07-061b-4390-af0a-f9ced877a068.h5ad\"\n",
    "    label_col=\"reported_diseases\"\n",
    "    patient_col=\"donor_id\""
   ]
  },
  {
   "cell_type": "code",
   "execution_count": 13,
   "metadata": {},
   "outputs": [
    {
     "name": "stdout",
     "output_type": "stream",
     "text": [
      "Removed 21198 low variance genes out of 28975 genes\n",
      "passed neighs: 3\n"
     ]
    }
   ],
   "source": [
    "training_data = {}\n",
    "train_dataset = {}\n",
    "\n",
    "for a in alphas:\n",
    "    for l in lambdas:\n",
    "        for t in neighbor_t:\n",
    "                for k in rank_k:\n",
    "                        training_data[(a,l,t,k)] = scRNA_Dataset(dataset_folder+dataset_name,patient_col=patient_col,label_col=label_col,n_cells=n_cells,n_feats=pca_comps,filter_genes=filter_highvar_genes,t=t,subsample_patient_ratio=train_split)\n",
    "                        train_dataset[(a,l,t,k)] = DataLoader(training_data[(a,l,t,k)], batch_size=128, shuffle=True)\n"
   ]
  },
  {
   "cell_type": "code",
   "execution_count": 14,
   "metadata": {},
   "outputs": [
    {
     "data": {
      "text/plain": [
       "'\\ntrain_features, train_labels = next(iter(train_dataset))\\nprint(f\"Feature batch shape: {train_features.size()}\")\\nprint(f\"Labels batch shape: {train_labels.size()}\")\\n\\n\\ntrpl_distributions = train_features[0]\\ntrpl_label = train_labels[0]\\n\\n\\nplot_distribution(trpl_distributions,trpl_label)\\n\\nplt.show()\\nprint(f\"Example Triplet with Labels: {[l.item() for l in trpl_label]}\")\\n'"
      ]
     },
     "execution_count": 14,
     "metadata": {},
     "output_type": "execute_result"
    }
   ],
   "source": [
    "'''\n",
    "train_features, train_labels = next(iter(train_dataset))\n",
    "print(f\"Feature batch shape: {train_features.size()}\")\n",
    "print(f\"Labels batch shape: {train_labels.size()}\")\n",
    "\n",
    "\n",
    "trpl_distributions = train_features[0]\n",
    "trpl_label = train_labels[0]\n",
    "\n",
    "\n",
    "plot_distribution(trpl_distributions,trpl_label)\n",
    "\n",
    "plt.show()\n",
    "print(f\"Example Triplet with Labels: {[l.item() for l in trpl_label]}\")\n",
    "'''"
   ]
  },
  {
   "cell_type": "code",
   "execution_count": 15,
   "metadata": {},
   "outputs": [],
   "source": [
    "results = {}\n",
    "thetas = {}\n",
    "times = {}"
   ]
  },
  {
   "cell_type": "code",
   "execution_count": null,
   "metadata": {},
   "outputs": [
    {
     "name": "stdout",
     "output_type": "stream",
     "text": [
      "The autoreload extension is already loaded. To reload it, use:\n",
      "  %reload_ext autoreload\n"
     ]
    },
    {
     "name": "stderr",
     "output_type": "stream",
     "text": [
      "  0%|          | 0/5 [00:00<?, ?it/s]"
     ]
    }
   ],
   "source": [
    "%load_ext autoreload\n",
    "%autoreload 2\n",
    "\n",
    "for a,l,t,k in train_dataset.keys():\n",
    "    if (a,l,t,k) in times.keys():\n",
    "        continue\n",
    "    \n",
    "    w_theta, time = ggml(train_dataset[(a,l,t,k)],alpha=a,lambda_=l,rank_k=k,neigh_t=t,lr=lr,iterations=iterations,plot_every_i_iterations=plot_every_i_iterations,full_dataset_for_plotting=training_data[(a,l,t,k)],save_every_i_iterations=save_every_i_iterations,n_threads=n_threads)\n",
    "\n",
    "    thetas[(a,l,t,k)]= w_theta.clone().detach().numpy()\n",
    "    times[(a,l,t,k)] = time"
   ]
  },
  {
   "cell_type": "code",
   "execution_count": null,
   "metadata": {},
   "outputs": [
    {
     "name": "stdout",
     "output_type": "stream",
     "text": [
      "[[1176.49686456]]\n"
     ]
    },
    {
     "data": {
      "text/html": [
       "<div>\n",
       "<style scoped>\n",
       "    .dataframe tbody tr th:only-of-type {\n",
       "        vertical-align: middle;\n",
       "    }\n",
       "\n",
       "    .dataframe tbody tr th {\n",
       "        vertical-align: top;\n",
       "    }\n",
       "\n",
       "    .dataframe thead th {\n",
       "        text-align: right;\n",
       "    }\n",
       "</style>\n",
       "<table border=\"1\" class=\"dataframe\">\n",
       "  <thead>\n",
       "    <tr style=\"text-align: right;\">\n",
       "      <th></th>\n",
       "      <th>5</th>\n",
       "    </tr>\n",
       "  </thead>\n",
       "  <tbody>\n",
       "    <tr>\n",
       "      <th>3</th>\n",
       "      <td>1176.496865</td>\n",
       "    </tr>\n",
       "  </tbody>\n",
       "</table>\n",
       "</div>"
      ],
      "text/plain": [
       "             5\n",
       "3  1176.496865"
      ]
     },
     "metadata": {},
     "output_type": "display_data"
    },
    {
     "name": "stdout",
     "output_type": "stream",
     "text": [
      "\\begin{tabular}{lr}\n",
      "\\toprule\n",
      " & 5 \\\\\n",
      "\\midrule\n",
      "3 & 1176.5 \\\\\n",
      "\\bottomrule\n",
      "\\end{tabular}\n",
      "\n"
     ]
    }
   ],
   "source": [
    "#Print averaege epoch time for different rank k and neighs. t\n",
    "table = np.zeros((len(rank_k),len(neighbor_t)))\n",
    "\n",
    "for a,l,t,k in times.keys():\n",
    "    #print(f\"Average time for neigh {t} and Rank {k} is {np.average(times[(a,l,t,k)])}\")\n",
    "    table[rank_k.index(k),neighbor_t.index(t)] = np.average(times[(a,l,t,k)])\n",
    "\n",
    "print(table)\n",
    "\n",
    "\n",
    "\n",
    "table_df = pd.DataFrame(data=table,index=rank_k,columns=neighbor_t).transpose()\n",
    "\n",
    "\n",
    "display(table_df)\n",
    "print(table_df.to_latex(index=True,\n",
    "                #formatters={\"name\": str.upper},\n",
    "                float_format=\"{:.1f}\".format,\n",
    "))"
   ]
  },
  {
   "cell_type": "markdown",
   "metadata": {},
   "source": [
    "\\begin{tabular}{lrrrrr}\n",
    "\\toprule\n",
    " & 5 & 10 & 50 & 100 & 200 \\\\\n",
    "\\midrule\n",
    "1 & 12.9 & 14.5 & 15.8 & 17.0 & 22.3 \\\\\n",
    "3 & 130.4 & 132.5 & 143.3 & 156.0 & 195.8 \\\\\n",
    "5 & 348.6 & 361.3 & 365.2 & 417.3 & 525.4 \\\\\n",
    "7 & NaN & 687.6 & 789.3 & 866.7 & 1040.5 \\\\\n",
    "9 & 1049.1 & 1119.8 & 1249.2 & 1446.2 & 1703.2 \\\\\n",
    "\\bottomrule\n",
    "\\end{tabular}\n",
    "\n"
   ]
  },
  {
   "cell_type": "code",
   "execution_count": null,
   "metadata": {},
   "outputs": [
    {
     "name": "stdout",
     "output_type": "stream",
     "text": [
      "The autoreload extension is already loaded. To reload it, use:\n",
      "  %reload_ext autoreload\n",
      "[[-0.8483193   -0.7749758    0.8663573   ... -0.27737245  -0.4423701\n",
      "  -0.35356656 ]\n",
      " [ 0.3523178   -0.6059981   -0.34605408  ...  0.22243632   0.36361015\n",
      "   0.3857062  ]\n",
      " [ 0.99987096   0.41386867  -0.9079424   ...  0.6381111   -0.036557876\n",
      "   0.51241326 ]\n",
      " [-0.6138765   -0.20850286   0.057052575 ... -0.868161    -0.77564144\n",
      "   0.3445888  ]\n",
      " [ 0.20379125   0.8255113   -0.62510234  ...  0.5720052    0.40284753\n",
      "   0.85374695 ]]\n"
     ]
    },
    {
     "ename": "NameError",
     "evalue": "name 'plot_w_theta' is not defined",
     "output_type": "error",
     "traceback": [
      "\u001b[0;31m---------------------------------------------------------------------------\u001b[0m",
      "\u001b[0;31mNameError\u001b[0m                                 Traceback (most recent call last)",
      "Cell \u001b[0;32mIn[9], line 10\u001b[0m\n\u001b[1;32m      6\u001b[0m fig, axs \u001b[38;5;241m=\u001b[39m plt\u001b[38;5;241m.\u001b[39msubplots(nrows\u001b[38;5;241m=\u001b[39m\u001b[38;5;241m2\u001b[39m, ncols\u001b[38;5;241m=\u001b[39m\u001b[38;5;241m2\u001b[39m, figsize\u001b[38;5;241m=\u001b[39m(\u001b[38;5;241m3\u001b[39m,\u001b[38;5;241m6\u001b[39m))\n\u001b[1;32m      9\u001b[0m \u001b[38;5;66;03m#fig, ax = plt.subplots(figsize=(3,3))\u001b[39;00m\n\u001b[0;32m---> 10\u001b[0m ax \u001b[38;5;241m=\u001b[39m \u001b[43mplot_w_theta\u001b[49m(np\u001b[38;5;241m.\u001b[39midentity(\u001b[38;5;241m2\u001b[39m), ax\u001b[38;5;241m=\u001b[39maxs[\u001b[38;5;241m0\u001b[39m,\u001b[38;5;241m0\u001b[39m])\n\u001b[1;32m     11\u001b[0m \u001b[38;5;28mprint\u001b[39m(ax)\n\u001b[1;32m     12\u001b[0m ax\u001b[38;5;241m.\u001b[39mset_title(\u001b[38;5;124mr\u001b[39m\u001b[38;5;124m'\u001b[39m\u001b[38;5;124mEuclidean $d_2$ (Baseline)\u001b[39m\u001b[38;5;124m'\u001b[39m)\n",
      "\u001b[0;31mNameError\u001b[0m: name 'plot_w_theta' is not defined"
     ]
    },
    {
     "data": {
      "image/png": "[encoded data removed]",
      "text/plain": [
       "<Figure size 300x600 with 4 Axes>"
      ]
     },
     "metadata": {},
     "output_type": "display_data"
    }
   ],
   "source": [
    "%load_ext autoreload\n",
    "%autoreload 2\n",
    "np.set_printoptions(suppress=True,precision=16)\n",
    "np.save(\"/home/kuehn/ot_metric_learning/damin-ggml/data/results/learned_parameters/synth_200D/GGML/w_theta.npy\",w_theta.clone().detach().numpy())\n",
    "print(w_theta.clone().detach().numpy())\n",
    "fig, axs = plt.subplots(nrows=2, ncols=2, figsize=(3,6))\n",
    "\n",
    "\n",
    "#fig, ax = plt.subplots(figsize=(3,3))\n",
    "ax = plot_w_theta(np.identity(2), ax=axs[0,0])\n",
    "print(ax)\n",
    "ax.set_title(r'Euclidean $d_2$ (Baseline)')\n",
    "ax.get_figure().set_size_inches(4.8,5)\n",
    "\n",
    "ax = plot_w_theta(w_theta.clone().detach().numpy(), ax=axs[1,1])\n",
    "print(ax)\n",
    "ax.set_title(r'Mahalanobis $d_\\theta$ (GGML)')\n",
    "#ax.get_figure().set_size_inches(2.4,5)\n",
    "\n",
    "\n",
    "ax = plot_w_theta(M=np.asarray([[9.85031407, 0.02607956],\n",
    "       [0.02607956, 0.07327278]]), ax=axs[0,1])\n",
    "print(ax)\n",
    "ax.set_title(r'Mahalanobis $d_\\theta$ (NCA)')\n",
    "#ax.get_figure().set_size_inches(2.4,5)\n",
    "\n",
    "\n",
    "ax = plot_w_theta(np.asarray([[1,0],[0,0]]), ax=axs[1,0])\n",
    "print(ax)\n",
    "ax.set_title(r'Groundtruth $d^*$')\n",
    "#ax.get_figure().set_size_inches(2.4,5)\n",
    "\n",
    "plt.tight_layout()\n",
    "plt.show()\n",
    "from matplotlib.pyplot import figure\n",
    "\n",
    "figure(figsize=(3, 3), dpi=80)\n",
    "\n",
    "training_data.compute_OT_on_dists(w = w_theta.clone().detach().numpy(),legend=None)\n"
   ]
  },
  {
   "cell_type": "code",
   "execution_count": null,
   "metadata": {},
   "outputs": [
    {
     "name": "stdout",
     "output_type": "stream",
     "text": [
      "[  0.                  2.16                4.32\n",
      "   6.48                8.64               10.8\n",
      "  12.96               15.120000000000001  17.28\n",
      "  19.44               21.6                23.76\n",
      "  25.92               28.080000000000002  30.240000000000002\n",
      "  32.400000000000006  34.56               36.72\n",
      "  38.88               41.040000000000006  43.2\n",
      "  45.36               47.52               49.68000000000001\n",
      "  51.84               54.                 56.160000000000004\n",
      "  58.32000000000001   60.480000000000004  62.64\n",
      "  64.80000000000001   66.96000000000001   69.12\n",
      "  71.28               73.44               75.60000000000001\n",
      "  77.76               79.92               82.08000000000001\n",
      "  84.24000000000001   86.4                88.56\n",
      "  90.72               92.88000000000001   95.04\n",
      "  97.2                99.36000000000001  101.52000000000001\n",
      " 103.68              105.84              108.\n",
      " 110.16000000000001  112.32000000000001  114.48\n",
      " 116.64000000000001  118.80000000000001  120.96000000000001\n",
      " 123.12              125.28              127.44000000000001\n",
      " 129.60000000000002  131.76000000000002  133.92000000000002\n",
      " 136.08              138.24              140.4\n",
      " 142.56              144.72              146.88\n",
      " 149.04000000000002  151.20000000000002  153.36\n",
      " 155.52              157.68              159.84\n",
      " 162.                164.16000000000003  166.32000000000002\n",
      " 168.48000000000002  170.64000000000001  172.8\n",
      " 174.96              177.12              179.28\n",
      " 181.44              183.60000000000002  185.76000000000002\n",
      " 187.92000000000002  190.08              192.24\n",
      " 194.4               196.56              198.72000000000003\n",
      " 200.88000000000002  203.04000000000002  205.20000000000002\n",
      " 207.36              209.52              211.68\n",
      " 213.84             ]\n",
      "18\n",
      "tensor([[ 2.6928e+00,  9.4094e-02,  7.7571e-01,  4.2913e-01, -5.7408e-01,\n",
      "          7.7411e-01,  7.0753e-01, -8.4062e-01,  2.1958e-01, -2.8280e-01,\n",
      "          2.2210e-01,  7.0679e-01, -1.0563e+00,  4.4689e-01, -5.7884e-01,\n",
      "         -1.8860e-01, -4.3667e-01, -5.0712e-01, -3.3007e-01,  3.8427e-01,\n",
      "          6.8323e-01, -1.2110e-01, -1.8557e-01,  1.1433e-02, -3.0343e-01,\n",
      "         -4.4542e-01,  6.0994e-01, -7.1242e-01, -2.0580e-01, -2.1761e-01,\n",
      "         -4.5937e-01, -4.5357e-01,  8.8458e-01,  5.7164e-01, -5.8974e-01,\n",
      "         -5.0175e-01, -9.9969e-01, -2.0173e-01, -9.9520e-01, -9.4620e-01,\n",
      "         -1.0949e+00, -6.0423e-01, -3.4902e-02,  4.1766e-02, -1.1010e+00,\n",
      "         -6.1130e-01, -1.0600e+00,  3.0196e-01, -3.5832e-01, -2.7287e-02,\n",
      "          8.5237e-01,  8.2953e-01,  2.3943e-01, -4.2648e-01, -8.3661e-01,\n",
      "          6.5641e-01,  8.0954e-01, -6.6793e-02, -3.4720e-01, -2.2945e-01,\n",
      "          5.7286e-01,  2.3299e-01,  1.0700e-01,  7.4106e-01,  1.2377e-01,\n",
      "          7.0455e-01,  6.1786e-01, -3.8098e-01, -7.4013e-01,  7.1493e-01,\n",
      "         -5.3671e-01,  1.0455e-01,  7.1913e-01,  3.1353e-01,  5.9759e-01,\n",
      "         -8.8864e-01, -1.1403e+00, -4.6491e-02, -2.8909e-01,  7.4613e-01,\n",
      "         -7.4134e-01,  3.1726e-01, -1.2048e-01, -5.1121e-01,  5.3926e-02,\n",
      "          6.7778e-01, -9.3780e-01, -3.7900e-01, -4.9207e-01,  9.4085e-02,\n",
      "         -5.7323e-01,  1.3201e-01, -2.3167e-01, -7.0207e-01, -5.6474e-01,\n",
      "          2.6729e-01,  1.5457e-01, -1.1030e+00,  6.6659e-01, -1.0009e+00,\n",
      "          2.1861e-01,  6.0495e-01,  5.8551e-01, -1.0174e-01,  5.4794e-01,\n",
      "          2.7765e-01, -1.8484e-01,  7.8839e-01, -2.1634e-01, -6.4759e-01,\n",
      "          6.1606e-01,  8.5156e-01, -8.4570e-01,  5.8974e-01,  5.7466e-01,\n",
      "         -5.5441e-01,  2.2750e-01, -5.3971e-01,  8.5562e-01,  2.6644e-01,\n",
      "          1.6608e-01, -2.5455e-01,  6.6897e-01,  1.7892e-01, -1.7958e-01,\n",
      "          7.1557e-01,  5.5066e-01,  4.7752e-02, -6.8760e-01,  4.1942e-01,\n",
      "         -6.9865e-01,  4.7444e-01, -6.4841e-01, -7.3472e-01,  6.0242e-02,\n",
      "          5.5865e-01,  7.8291e-01, -5.5207e-02, -6.4376e-01,  7.6741e-01,\n",
      "          3.2344e-02,  1.2161e-02,  4.1440e-01,  7.7806e-01,  7.6000e-01,\n",
      "          8.5909e-01,  7.3594e-01, -1.0902e+00,  4.0215e-01, -3.5660e-01,\n",
      "         -5.6489e-01, -6.2287e-01, -2.2962e-01,  4.7872e-01, -5.8965e-01,\n",
      "          2.3901e-01,  1.6520e-01,  7.9446e-01,  3.0016e-01,  8.9364e-02,\n",
      "          3.5204e-01,  6.0226e-01,  7.7990e-01, -9.7114e-01, -6.7310e-01,\n",
      "         -4.8650e-01,  2.0137e-01,  1.3812e-01,  7.7562e-02, -7.5754e-01,\n",
      "          7.7728e-01,  2.8065e-01,  8.5990e-01,  5.9404e-01, -1.0020e+00,\n",
      "          7.1286e-01,  2.4363e-01, -6.8781e-01, -3.6118e-01,  2.4453e-01,\n",
      "          8.4000e-01, -5.8826e-01,  6.1363e-01, -3.2380e-02,  7.0395e-01,\n",
      "          3.9953e-01, -6.9170e-01,  7.5688e-01,  4.8654e-01, -9.3180e-01,\n",
      "         -1.5662e-01, -3.4581e-01, -6.1513e-01, -8.8540e-01,  1.4455e-01,\n",
      "          2.6061e-01, -1.0194e+00,  6.4431e-01, -7.4916e-02,  6.0682e-01],\n",
      "        [-2.6350e+00, -2.3646e-01,  3.1717e-01, -8.4769e-02, -2.4461e-01,\n",
      "          3.1674e-01, -8.2026e-01,  5.7939e-01,  3.7203e-01, -6.9552e-01,\n",
      "         -1.4078e-01, -2.3374e-01,  5.7951e-01, -4.7614e-01,  1.0194e+00,\n",
      "          3.6757e-01, -2.5712e-01,  8.2142e-01,  1.4111e-01, -7.0396e-01,\n",
      "         -8.1672e-01, -1.0240e+00, -4.5050e-01,  2.9582e-01, -6.6194e-01,\n",
      "         -6.0043e-01, -1.0041e+00,  6.8705e-01,  8.6878e-01, -3.2211e-01,\n",
      "          5.7951e-01,  4.0795e-01, -3.1659e-01,  1.2441e-01, -3.2272e-01,\n",
      "         -3.3698e-01,  9.6516e-01, -5.2419e-01,  4.4286e-01, -7.8109e-01,\n",
      "         -1.0186e+00,  3.2179e-01, -3.6967e-02, -7.7070e-01,  9.7844e-01,\n",
      "          8.3454e-02,  5.1538e-01, -9.3462e-01,  1.0163e-01, -1.4894e-01,\n",
      "         -4.1036e-01,  6.2652e-01, -3.3544e-01, -5.7647e-01, -8.6233e-01,\n",
      "          4.9441e-01,  2.6776e-01, -9.1354e-01,  9.0597e-01, -8.6217e-01,\n",
      "          9.5061e-01, -4.0169e-01,  4.3310e-01,  8.1885e-01,  2.7520e-01,\n",
      "         -7.5128e-01,  1.0147e+00,  6.4182e-01, -3.6950e-01,  1.1060e-01,\n",
      "          9.2558e-01, -5.7221e-01,  9.2254e-01, -9.5697e-01,  2.3222e-02,\n",
      "         -7.4231e-01,  2.3396e-01, -9.1945e-01, -4.2228e-01, -3.7281e-01,\n",
      "          8.4237e-01, -2.3632e-01, -3.7525e-01, -1.5699e-01, -1.6458e-01,\n",
      "          4.3914e-01,  7.3071e-01, -5.4946e-01,  4.8906e-01,  8.0849e-01,\n",
      "          1.3957e-01,  7.1764e-01,  2.1345e-01, -9.1002e-01,  5.9564e-01,\n",
      "          3.3321e-01,  3.8186e-01,  4.1348e-01,  2.7063e-01,  5.5955e-02,\n",
      "          3.7432e-01,  7.1955e-01,  4.3518e-01,  1.5833e-01,  7.3338e-01,\n",
      "          9.7251e-01,  9.6581e-01, -4.8348e-01, -6.2601e-01, -8.8993e-01,\n",
      "         -7.9838e-02,  6.2476e-01,  1.4209e-01,  5.9607e-01, -5.1701e-01,\n",
      "          3.0387e-01, -2.1367e-01, -3.2723e-01, -8.4392e-01, -6.3823e-01,\n",
      "         -8.6782e-01,  5.7616e-01, -7.9950e-01,  8.9422e-01, -1.0406e-01,\n",
      "         -3.5459e-01,  5.7318e-01, -1.5866e-02,  2.0659e-01,  4.6375e-01,\n",
      "         -3.1808e-01,  6.5142e-01, -1.8810e-01,  5.2236e-01,  2.3067e-01,\n",
      "          2.5058e-01,  5.0659e-01,  1.2106e-01,  6.9872e-01,  2.5364e-01,\n",
      "         -7.7114e-02,  5.6121e-01,  2.7701e-01,  7.9533e-01, -3.6357e-01,\n",
      "         -9.3525e-01, -2.6333e-01,  5.3725e-01, -1.0011e+00, -7.3970e-01,\n",
      "          5.1397e-01,  5.4263e-01,  4.8553e-01, -1.8496e-01, -5.7466e-01,\n",
      "          5.9797e-01, -3.3639e-01,  6.6078e-01, -6.4668e-01,  4.7997e-01,\n",
      "         -8.3111e-01,  7.9449e-01,  1.1299e-02,  8.0321e-01,  1.2353e-01,\n",
      "          4.1766e-01,  6.0560e-01,  5.0335e-01, -4.2858e-01,  5.3240e-01,\n",
      "          5.9190e-01, -5.7229e-01, -2.6322e-01, -9.3787e-01,  5.9151e-01,\n",
      "         -1.1640e-01,  7.0437e-01, -5.5349e-01,  6.0029e-01, -3.4691e-01,\n",
      "         -1.6046e-01, -3.8068e-01, -7.0436e-01, -9.7403e-01, -3.6060e-01,\n",
      "         -9.4604e-01, -6.0570e-01,  2.3778e-01, -2.1738e-01,  5.0643e-01,\n",
      "         -3.6054e-01, -5.1925e-01,  8.1356e-01, -9.3314e-01, -4.2819e-01,\n",
      "         -3.9264e-01, -3.0840e-01,  6.1234e-01, -4.4967e-01, -5.9507e-01],\n",
      "        [ 2.5307e+00, -9.3679e-01,  8.4041e-01, -4.1390e-01,  2.0560e-01,\n",
      "          4.3000e-01, -9.5056e-01, -7.6580e-01, -2.5842e-02, -1.2349e-01,\n",
      "          7.2139e-03,  9.1274e-01,  4.4193e-01,  4.5113e-01,  9.4818e-01,\n",
      "          2.0325e-01, -9.0409e-01, -3.5279e-01, -2.7906e-01,  8.3671e-01,\n",
      "         -2.9574e-01, -2.7499e-01, -7.9243e-02, -3.1103e-02,  5.8707e-01,\n",
      "          5.4974e-01, -4.4030e-01,  6.8044e-01,  5.3501e-01, -2.8863e-01,\n",
      "         -4.3167e-01, -9.6123e-02, -5.1214e-02, -8.5419e-01, -1.0131e+00,\n",
      "          2.6056e-02, -3.0786e-01, -4.5819e-02,  5.2787e-01, -9.2258e-01,\n",
      "         -8.3027e-01, -3.2341e-01,  2.5977e-01,  4.7798e-02,  2.0388e-01,\n",
      "         -1.9009e-01, -3.3322e-01,  8.6541e-01, -2.4621e-01, -6.3590e-01,\n",
      "         -1.8946e-01,  3.0559e-01, -5.7970e-01, -3.2278e-01, -7.0682e-01,\n",
      "          3.2090e-01, -5.4963e-01,  7.1770e-01, -4.6708e-01,  5.2650e-01,\n",
      "          2.1240e-01,  4.1798e-01, -5.1206e-01, -7.4029e-01, -4.8774e-01,\n",
      "         -1.5115e-01, -6.7102e-01, -3.7318e-01, -2.5277e-01, -7.8677e-01,\n",
      "          7.1406e-01, -7.9246e-02,  3.8360e-01, -7.8097e-02, -5.9848e-01,\n",
      "         -3.4245e-01,  9.7787e-01,  6.7000e-01, -4.9001e-01,  8.5363e-02,\n",
      "          2.1123e-01,  2.7563e-01, -2.2059e-01,  1.9197e-01,  8.4244e-01,\n",
      "          2.1285e-01,  3.6693e-01,  4.8567e-02,  8.5618e-01, -6.9529e-01,\n",
      "          9.7700e-01,  5.4064e-01, -3.5371e-02, -3.7931e-01,  8.4921e-01,\n",
      "         -2.5359e-01,  7.3432e-01, -6.0002e-01,  8.0796e-01,  2.1863e-01,\n",
      "         -3.6228e-01,  5.0966e-01, -4.6988e-01,  4.2314e-01, -6.7110e-01,\n",
      "         -2.0580e-02, -4.6002e-01,  6.7581e-01, -9.6074e-01, -4.7162e-01,\n",
      "          2.9534e-01,  6.0307e-01,  7.2181e-01, -2.0884e-01, -8.6660e-01,\n",
      "          9.7669e-01, -1.6025e-01, -2.9371e-01, -1.8163e-01, -8.0191e-01,\n",
      "         -5.3845e-01,  5.4449e-01,  7.2801e-01,  3.7443e-01, -5.6565e-02,\n",
      "         -1.7374e-01,  8.3737e-01, -6.2045e-01,  6.3193e-01,  9.4829e-01,\n",
      "         -4.3360e-01, -2.4808e-01, -2.9217e-01, -5.6509e-02,  4.9593e-01,\n",
      "         -5.3153e-01, -6.2394e-01,  6.5897e-01,  1.6337e-01,  7.9183e-01,\n",
      "         -8.6098e-01, -8.3779e-02, -9.9082e-01, -5.5033e-01, -5.8439e-01,\n",
      "          6.9698e-01,  8.6213e-01, -5.0824e-01,  3.6667e-01, -2.5348e-01,\n",
      "          3.0832e-01,  5.1649e-02, -5.8086e-01,  8.9448e-01,  1.0865e-01,\n",
      "         -6.9437e-01,  4.8280e-01, -5.3521e-01, -8.8110e-01, -4.7458e-01,\n",
      "          7.9664e-01, -6.5101e-01, -9.7703e-02,  4.1209e-01, -4.8609e-01,\n",
      "         -6.4751e-01, -3.6887e-01, -4.7183e-02,  6.3657e-01, -7.7811e-01,\n",
      "         -6.6491e-01,  4.1122e-01,  8.4986e-01, -2.4469e-01,  7.0947e-01,\n",
      "         -7.0528e-01, -5.4512e-01, -3.6501e-01,  9.8897e-01, -7.0463e-01,\n",
      "          9.3711e-01,  5.1566e-01,  8.8816e-01,  1.1571e-01, -9.1982e-01,\n",
      "          9.9351e-01,  7.6802e-01, -2.4824e-01,  3.0998e-01,  8.9791e-01,\n",
      "         -7.9556e-01, -2.4568e-01,  3.5046e-01,  4.1621e-01, -8.4776e-01,\n",
      "         -1.7033e-01,  6.1140e-01, -7.3459e-01,  1.6127e-01,  6.1286e-01],\n",
      "        [-2.5058e+00,  3.4045e-01,  5.8833e-01,  1.0225e-01, -2.3552e-01,\n",
      "         -4.0178e-01, -1.8291e-01, -7.6033e-01, -2.7025e-01,  6.6157e-01,\n",
      "          4.5617e-01, -8.9776e-03,  1.4063e-01, -6.0485e-01, -5.7572e-01,\n",
      "         -9.4038e-01, -6.4720e-01, -6.0748e-01, -1.6423e-01,  6.9533e-01,\n",
      "          4.4062e-01,  6.6505e-01, -5.8508e-01,  1.5483e-01,  6.6945e-01,\n",
      "         -9.2966e-01, -9.2185e-01,  5.5948e-01,  6.1619e-01,  3.8837e-01,\n",
      "         -2.1123e-01,  1.0106e+00, -3.6105e-01, -8.4695e-01,  6.2447e-01,\n",
      "          7.7304e-01, -3.0023e-01, -4.9066e-01, -4.1181e-01, -5.5546e-01,\n",
      "          1.2568e-01,  3.1089e-01, -9.6999e-01,  4.9732e-01, -5.0482e-01,\n",
      "         -9.1241e-01,  8.5941e-01, -3.4483e-01,  3.8316e-01,  1.0105e+00,\n",
      "         -7.2505e-01,  1.0281e+00, -6.0603e-01, -2.8299e-01,  5.9980e-02,\n",
      "          8.8523e-01,  3.5997e-01, -3.5180e-01,  6.1698e-01, -8.8940e-02,\n",
      "          6.6082e-02, -7.0931e-01, -6.1567e-01, -7.8508e-01, -6.8255e-01,\n",
      "         -4.4289e-01,  3.1947e-01,  2.1412e-01,  4.3194e-01,  7.6718e-01,\n",
      "          9.2657e-02,  8.9666e-01, -7.7781e-01,  1.1960e-01,  4.4471e-01,\n",
      "         -2.8018e-01,  1.0238e+00,  6.2892e-01,  5.6592e-01, -6.0156e-01,\n",
      "         -1.7563e-01,  2.4347e-01, -3.2228e-01,  5.6857e-01,  6.0543e-01,\n",
      "          9.4943e-01, -2.0773e-01,  3.2948e-01,  8.1550e-01, -7.3430e-01,\n",
      "          1.1830e-01,  6.0466e-01, -5.4766e-02,  3.3383e-01,  5.7383e-02,\n",
      "         -6.9214e-01,  9.0252e-01,  6.6019e-01,  6.3962e-01, -4.2575e-01,\n",
      "         -2.2952e-01, -3.9066e-01,  6.4059e-01,  9.6563e-01,  1.4692e-01,\n",
      "         -4.9944e-01, -6.2626e-01,  1.1197e-02, -9.1871e-01,  6.7314e-01,\n",
      "          8.3085e-01,  9.8568e-01,  2.8093e-01, -6.1568e-01, -8.9907e-01,\n",
      "          9.6185e-01, -4.1281e-01, -2.0997e-01,  8.9351e-01, -9.3284e-02,\n",
      "          9.0242e-01,  1.0006e+00, -7.4509e-02, -1.7414e-01, -8.7255e-01,\n",
      "          8.6816e-01,  2.6073e-01,  4.0937e-01,  7.3354e-01,  1.3974e-01,\n",
      "         -5.9130e-01, -6.8633e-01, -3.7444e-02,  2.0872e-01,  8.8457e-01,\n",
      "          3.5700e-01, -9.5488e-02,  7.0935e-01, -1.9498e-01,  5.6135e-01,\n",
      "         -5.8702e-01,  9.0428e-01,  3.8507e-01, -6.7596e-01, -5.8536e-01,\n",
      "         -6.2180e-01, -8.3277e-01,  6.1953e-02, -5.1224e-01, -2.1174e-01,\n",
      "          4.2880e-01, -9.4658e-01, -6.6773e-01, -3.1751e-01,  1.7911e-02,\n",
      "          2.2460e-01, -9.0612e-01, -3.9034e-01,  7.3753e-01, -6.6630e-01,\n",
      "         -3.7704e-01, -5.7501e-01, -9.3985e-01,  2.7021e-01, -8.4810e-01,\n",
      "          2.5385e-01, -6.6769e-01, -3.6037e-01, -3.2094e-01,  3.9835e-01,\n",
      "         -6.2606e-01,  5.0033e-01,  2.6909e-01,  2.1122e-01,  9.5979e-01,\n",
      "          8.2409e-01, -7.8443e-01, -1.1907e-01,  9.1856e-01,  5.9652e-01,\n",
      "          7.5722e-01, -1.6787e-01,  4.7360e-01, -9.2446e-01, -8.6848e-01,\n",
      "         -6.8699e-02, -1.2984e-01, -9.6011e-01,  2.7155e-01, -5.4277e-01,\n",
      "         -7.8363e-01,  8.7932e-01, -2.4358e-01,  6.4202e-01, -6.1116e-01,\n",
      "         -7.6543e-01,  9.7999e-01, -4.6717e-01,  4.2709e-01, -9.6432e-01],\n",
      "        [-2.6417e+00, -6.4832e-01, -6.6860e-02, -6.9054e-01, -3.0190e-01,\n",
      "         -3.1162e-01,  7.5744e-01, -8.7976e-01,  4.4062e-01,  2.2027e-01,\n",
      "          6.5967e-01,  5.9860e-01,  6.8465e-01, -9.5600e-01, -6.2239e-01,\n",
      "         -3.0512e-01, -8.6582e-02, -7.7771e-01, -6.2370e-01, -9.9429e-01,\n",
      "          1.0245e+00,  6.8637e-01,  8.6049e-01, -6.4337e-01,  3.5617e-01,\n",
      "          7.4902e-01, -5.1029e-01, -3.2532e-01,  3.8987e-01, -5.9204e-01,\n",
      "          7.8953e-01,  3.9416e-01, -9.1034e-01,  8.3349e-01, -5.2876e-01,\n",
      "          9.6501e-01,  1.4255e-01,  1.0993e-03, -5.4935e-01, -3.3365e-01,\n",
      "          9.5485e-01,  5.3065e-01, -6.1810e-01, -7.2310e-01, -9.5953e-01,\n",
      "         -9.6379e-01,  5.9712e-01,  7.1793e-01,  8.2668e-01,  3.0397e-01,\n",
      "          3.3978e-01,  4.2909e-01,  9.1654e-01, -3.5437e-01,  8.5700e-01,\n",
      "         -1.9147e-01, -7.5753e-01,  5.6661e-01, -2.9530e-01,  5.5440e-01,\n",
      "         -2.5172e-01, -3.4758e-01, -6.1778e-01,  7.7242e-03,  6.6961e-01,\n",
      "         -6.3836e-01,  6.5760e-01,  4.5932e-01, -4.3815e-01,  1.7441e-01,\n",
      "         -5.8308e-01,  2.8966e-01, -3.9381e-01,  9.4504e-01,  5.7404e-01,\n",
      "         -4.5497e-01, -7.0248e-01,  3.1804e-01,  6.8141e-01,  3.0253e-01,\n",
      "         -3.1638e-01,  9.0739e-01,  5.8011e-01, -7.4543e-01, -2.6104e-01,\n",
      "          2.2189e-01,  6.5243e-01, -3.9387e-01,  9.3140e-01,  4.0776e-01,\n",
      "         -4.8216e-01,  9.0301e-01, -3.8511e-01, -4.1705e-01, -8.1625e-01,\n",
      "         -4.9399e-02,  9.6731e-01,  1.7450e-01, -6.7690e-01, -8.1947e-01,\n",
      "         -5.6481e-02, -5.7434e-01,  5.3714e-01,  5.9127e-01, -3.0461e-01,\n",
      "         -8.6405e-01,  1.9699e-01,  7.1851e-02, -5.1032e-01,  5.6210e-01,\n",
      "         -5.4736e-02,  5.7524e-01,  7.2445e-01,  2.8662e-01, -5.5110e-01,\n",
      "          1.2251e-01,  3.0779e-02,  3.5145e-01,  9.0875e-01,  2.6261e-01,\n",
      "          3.4912e-01,  3.8884e-01, -4.6336e-01, -8.0151e-01, -6.8771e-01,\n",
      "         -1.7128e-03,  7.2393e-01, -5.2295e-01, -2.6735e-02,  3.5436e-01,\n",
      "          4.8980e-01,  3.6860e-02, -3.1332e-01,  1.0303e+00,  3.5082e-01,\n",
      "         -4.6695e-01, -8.8847e-01, -1.5467e-02, -1.4075e-01,  5.7763e-01,\n",
      "         -9.9392e-01,  7.5226e-01, -2.7778e-01,  2.9200e-01, -6.5380e-01,\n",
      "         -1.1364e-01, -8.7664e-01, -4.0243e-01, -7.6154e-01,  5.4459e-01,\n",
      "         -4.3762e-01,  5.0904e-02,  8.6388e-01,  5.2569e-01,  7.8308e-02,\n",
      "         -7.7626e-01,  7.1946e-01, -8.7258e-01,  8.3511e-01,  1.7075e-01,\n",
      "          3.9948e-01, -8.0295e-01, -8.7272e-01,  3.7707e-01,  5.0152e-01,\n",
      "          7.5820e-01,  5.7995e-01, -9.6425e-01,  2.4950e-02,  7.8539e-01,\n",
      "          7.3425e-01, -6.5859e-01,  6.8589e-01, -3.0847e-01, -8.8706e-01,\n",
      "          9.0354e-01,  8.5777e-01, -5.7334e-01, -6.1632e-01, -4.2279e-01,\n",
      "         -2.7635e-01, -6.4490e-01,  7.8632e-01,  6.2883e-01,  3.8992e-01,\n",
      "         -2.5090e-01, -5.8783e-01,  8.9438e-01, -8.1502e-01, -1.5830e-01,\n",
      "         -7.7558e-01,  1.0215e-01, -6.8905e-01, -8.5163e-01,  8.7530e-01,\n",
      "         -2.4882e-02, -1.0051e+00,  8.7156e-01, -8.7453e-01, -5.2969e-01]],\n",
      "       grad_fn=<CloneBackward0>)\n"
     ]
    },
    {
     "ename": "ValueError",
     "evalue": "x and y must have same first dimension, but have shapes (100,) and (18,)",
     "output_type": "error",
     "traceback": [
      "\u001b[0;31m---------------------------------------------------------------------------\u001b[0m",
      "\u001b[0;31mValueError\u001b[0m                                Traceback (most recent call last)",
      "Cell \u001b[0;32mIn[26], line 9\u001b[0m\n\u001b[1;32m      7\u001b[0m \u001b[38;5;66;03m#fig, ax = plt.subplots()\u001b[39;00m\n\u001b[1;32m      8\u001b[0m plt\u001b[38;5;241m.\u001b[39mplot(t, losses, label \u001b[38;5;241m=\u001b[39m \u001b[38;5;124m\"\u001b[39m\u001b[38;5;124mloss minibatches\u001b[39m\u001b[38;5;124m\"\u001b[39m)\n\u001b[0;32m----> 9\u001b[0m \u001b[43mplt\u001b[49m\u001b[38;5;241;43m.\u001b[39;49m\u001b[43mplot\u001b[49m\u001b[43m(\u001b[49m\u001b[43mt2\u001b[49m\u001b[43m,\u001b[49m\u001b[43m \u001b[49m\u001b[43m[\u001b[49m\u001b[43ml\u001b[49m\u001b[38;5;241;43m/\u001b[39;49m\u001b[43mdatapoints_per_iteration\u001b[49m\u001b[43m \u001b[49m\u001b[38;5;28;43;01mfor\u001b[39;49;00m\u001b[43m \u001b[49m\u001b[43ml\u001b[49m\u001b[43m \u001b[49m\u001b[38;5;129;43;01min\u001b[39;49;00m\u001b[43m \u001b[49m\u001b[43miteration_losses_total\u001b[49m\u001b[43m]\u001b[49m\u001b[43m,\u001b[49m\u001b[43m \u001b[49m\u001b[43mlabel\u001b[49m\u001b[43m \u001b[49m\u001b[38;5;241;43m=\u001b[39;49m\u001b[43m \u001b[49m\u001b[38;5;124;43m\"\u001b[39;49m\u001b[38;5;124;43maverage loss iteration\u001b[39;49m\u001b[38;5;124;43m\"\u001b[39;49m\u001b[43m)\u001b[49m\n\u001b[1;32m     10\u001b[0m plt\u001b[38;5;241m.\u001b[39mlegend() \n\u001b[1;32m     15\u001b[0m \u001b[38;5;66;03m#print(total_loss_best_theta)\u001b[39;00m\n",
      "File \u001b[0;32m~/anaconda3/envs/ggml/lib/python3.12/site-packages/matplotlib/pyplot.py:3794\u001b[0m, in \u001b[0;36mplot\u001b[0;34m(scalex, scaley, data, *args, **kwargs)\u001b[0m\n\u001b[1;32m   3786\u001b[0m \u001b[38;5;129m@_copy_docstring_and_deprecators\u001b[39m(Axes\u001b[38;5;241m.\u001b[39mplot)\n\u001b[1;32m   3787\u001b[0m \u001b[38;5;28;01mdef\u001b[39;00m \u001b[38;5;21mplot\u001b[39m(\n\u001b[1;32m   3788\u001b[0m     \u001b[38;5;241m*\u001b[39margs: \u001b[38;5;28mfloat\u001b[39m \u001b[38;5;241m|\u001b[39m ArrayLike \u001b[38;5;241m|\u001b[39m \u001b[38;5;28mstr\u001b[39m,\n\u001b[0;32m   (...)\u001b[0m\n\u001b[1;32m   3792\u001b[0m     \u001b[38;5;241m*\u001b[39m\u001b[38;5;241m*\u001b[39mkwargs,\n\u001b[1;32m   3793\u001b[0m ) \u001b[38;5;241m-\u001b[39m\u001b[38;5;241m>\u001b[39m \u001b[38;5;28mlist\u001b[39m[Line2D]:\n\u001b[0;32m-> 3794\u001b[0m     \u001b[38;5;28;01mreturn\u001b[39;00m \u001b[43mgca\u001b[49m\u001b[43m(\u001b[49m\u001b[43m)\u001b[49m\u001b[38;5;241;43m.\u001b[39;49m\u001b[43mplot\u001b[49m\u001b[43m(\u001b[49m\n\u001b[1;32m   3795\u001b[0m \u001b[43m        \u001b[49m\u001b[38;5;241;43m*\u001b[39;49m\u001b[43margs\u001b[49m\u001b[43m,\u001b[49m\n\u001b[1;32m   3796\u001b[0m \u001b[43m        \u001b[49m\u001b[43mscalex\u001b[49m\u001b[38;5;241;43m=\u001b[39;49m\u001b[43mscalex\u001b[49m\u001b[43m,\u001b[49m\n\u001b[1;32m   3797\u001b[0m \u001b[43m        \u001b[49m\u001b[43mscaley\u001b[49m\u001b[38;5;241;43m=\u001b[39;49m\u001b[43mscaley\u001b[49m\u001b[43m,\u001b[49m\n\u001b[1;32m   3798\u001b[0m \u001b[43m        \u001b[49m\u001b[38;5;241;43m*\u001b[39;49m\u001b[38;5;241;43m*\u001b[39;49m\u001b[43m(\u001b[49m\u001b[43m{\u001b[49m\u001b[38;5;124;43m\"\u001b[39;49m\u001b[38;5;124;43mdata\u001b[39;49m\u001b[38;5;124;43m\"\u001b[39;49m\u001b[43m:\u001b[49m\u001b[43m \u001b[49m\u001b[43mdata\u001b[49m\u001b[43m}\u001b[49m\u001b[43m \u001b[49m\u001b[38;5;28;43;01mif\u001b[39;49;00m\u001b[43m \u001b[49m\u001b[43mdata\u001b[49m\u001b[43m \u001b[49m\u001b[38;5;129;43;01mis\u001b[39;49;00m\u001b[43m \u001b[49m\u001b[38;5;129;43;01mnot\u001b[39;49;00m\u001b[43m \u001b[49m\u001b[38;5;28;43;01mNone\u001b[39;49;00m\u001b[43m \u001b[49m\u001b[38;5;28;43;01melse\u001b[39;49;00m\u001b[43m \u001b[49m\u001b[43m{\u001b[49m\u001b[43m}\u001b[49m\u001b[43m)\u001b[49m\u001b[43m,\u001b[49m\n\u001b[1;32m   3799\u001b[0m \u001b[43m        \u001b[49m\u001b[38;5;241;43m*\u001b[39;49m\u001b[38;5;241;43m*\u001b[39;49m\u001b[43mkwargs\u001b[49m\u001b[43m,\u001b[49m\n\u001b[1;32m   3800\u001b[0m \u001b[43m    \u001b[49m\u001b[43m)\u001b[49m\n",
      "File \u001b[0;32m~/anaconda3/envs/ggml/lib/python3.12/site-packages/matplotlib/axes/_axes.py:1779\u001b[0m, in \u001b[0;36mAxes.plot\u001b[0;34m(self, scalex, scaley, data, *args, **kwargs)\u001b[0m\n\u001b[1;32m   1536\u001b[0m \u001b[38;5;250m\u001b[39m\u001b[38;5;124;03m\"\"\"\u001b[39;00m\n\u001b[1;32m   1537\u001b[0m \u001b[38;5;124;03mPlot y versus x as lines and/or markers.\u001b[39;00m\n\u001b[1;32m   1538\u001b[0m \n\u001b[0;32m   (...)\u001b[0m\n\u001b[1;32m   1776\u001b[0m \u001b[38;5;124;03m(``'green'``) or hex strings (``'#008000'``).\u001b[39;00m\n\u001b[1;32m   1777\u001b[0m \u001b[38;5;124;03m\"\"\"\u001b[39;00m\n\u001b[1;32m   1778\u001b[0m kwargs \u001b[38;5;241m=\u001b[39m cbook\u001b[38;5;241m.\u001b[39mnormalize_kwargs(kwargs, mlines\u001b[38;5;241m.\u001b[39mLine2D)\n\u001b[0;32m-> 1779\u001b[0m lines \u001b[38;5;241m=\u001b[39m [\u001b[38;5;241m*\u001b[39m\u001b[38;5;28mself\u001b[39m\u001b[38;5;241m.\u001b[39m_get_lines(\u001b[38;5;28mself\u001b[39m, \u001b[38;5;241m*\u001b[39margs, data\u001b[38;5;241m=\u001b[39mdata, \u001b[38;5;241m*\u001b[39m\u001b[38;5;241m*\u001b[39mkwargs)]\n\u001b[1;32m   1780\u001b[0m \u001b[38;5;28;01mfor\u001b[39;00m line \u001b[38;5;129;01min\u001b[39;00m lines:\n\u001b[1;32m   1781\u001b[0m     \u001b[38;5;28mself\u001b[39m\u001b[38;5;241m.\u001b[39madd_line(line)\n",
      "File \u001b[0;32m~/anaconda3/envs/ggml/lib/python3.12/site-packages/matplotlib/axes/_base.py:296\u001b[0m, in \u001b[0;36m_process_plot_var_args.__call__\u001b[0;34m(self, axes, data, *args, **kwargs)\u001b[0m\n\u001b[1;32m    294\u001b[0m     this \u001b[38;5;241m+\u001b[39m\u001b[38;5;241m=\u001b[39m args[\u001b[38;5;241m0\u001b[39m],\n\u001b[1;32m    295\u001b[0m     args \u001b[38;5;241m=\u001b[39m args[\u001b[38;5;241m1\u001b[39m:]\n\u001b[0;32m--> 296\u001b[0m \u001b[38;5;28;01myield from\u001b[39;00m \u001b[38;5;28;43mself\u001b[39;49m\u001b[38;5;241;43m.\u001b[39;49m\u001b[43m_plot_args\u001b[49m\u001b[43m(\u001b[49m\n\u001b[1;32m    297\u001b[0m \u001b[43m    \u001b[49m\u001b[43maxes\u001b[49m\u001b[43m,\u001b[49m\u001b[43m \u001b[49m\u001b[43mthis\u001b[49m\u001b[43m,\u001b[49m\u001b[43m \u001b[49m\u001b[43mkwargs\u001b[49m\u001b[43m,\u001b[49m\u001b[43m \u001b[49m\u001b[43mambiguous_fmt_datakey\u001b[49m\u001b[38;5;241;43m=\u001b[39;49m\u001b[43mambiguous_fmt_datakey\u001b[49m\u001b[43m)\u001b[49m\n",
      "File \u001b[0;32m~/anaconda3/envs/ggml/lib/python3.12/site-packages/matplotlib/axes/_base.py:486\u001b[0m, in \u001b[0;36m_process_plot_var_args._plot_args\u001b[0;34m(self, axes, tup, kwargs, return_kwargs, ambiguous_fmt_datakey)\u001b[0m\n\u001b[1;32m    483\u001b[0m     axes\u001b[38;5;241m.\u001b[39myaxis\u001b[38;5;241m.\u001b[39mupdate_units(y)\n\u001b[1;32m    485\u001b[0m \u001b[38;5;28;01mif\u001b[39;00m x\u001b[38;5;241m.\u001b[39mshape[\u001b[38;5;241m0\u001b[39m] \u001b[38;5;241m!=\u001b[39m y\u001b[38;5;241m.\u001b[39mshape[\u001b[38;5;241m0\u001b[39m]:\n\u001b[0;32m--> 486\u001b[0m     \u001b[38;5;28;01mraise\u001b[39;00m \u001b[38;5;167;01mValueError\u001b[39;00m(\u001b[38;5;124mf\u001b[39m\u001b[38;5;124m\"\u001b[39m\u001b[38;5;124mx and y must have same first dimension, but \u001b[39m\u001b[38;5;124m\"\u001b[39m\n\u001b[1;32m    487\u001b[0m                      \u001b[38;5;124mf\u001b[39m\u001b[38;5;124m\"\u001b[39m\u001b[38;5;124mhave shapes \u001b[39m\u001b[38;5;132;01m{\u001b[39;00mx\u001b[38;5;241m.\u001b[39mshape\u001b[38;5;132;01m}\u001b[39;00m\u001b[38;5;124m and \u001b[39m\u001b[38;5;132;01m{\u001b[39;00my\u001b[38;5;241m.\u001b[39mshape\u001b[38;5;132;01m}\u001b[39;00m\u001b[38;5;124m\"\u001b[39m)\n\u001b[1;32m    488\u001b[0m \u001b[38;5;28;01mif\u001b[39;00m x\u001b[38;5;241m.\u001b[39mndim \u001b[38;5;241m>\u001b[39m \u001b[38;5;241m2\u001b[39m \u001b[38;5;129;01mor\u001b[39;00m y\u001b[38;5;241m.\u001b[39mndim \u001b[38;5;241m>\u001b[39m \u001b[38;5;241m2\u001b[39m:\n\u001b[1;32m    489\u001b[0m     \u001b[38;5;28;01mraise\u001b[39;00m \u001b[38;5;167;01mValueError\u001b[39;00m(\u001b[38;5;124mf\u001b[39m\u001b[38;5;124m\"\u001b[39m\u001b[38;5;124mx and y can be no greater than 2D, but have \u001b[39m\u001b[38;5;124m\"\u001b[39m\n\u001b[1;32m    490\u001b[0m                      \u001b[38;5;124mf\u001b[39m\u001b[38;5;124m\"\u001b[39m\u001b[38;5;124mshapes \u001b[39m\u001b[38;5;132;01m{\u001b[39;00mx\u001b[38;5;241m.\u001b[39mshape\u001b[38;5;132;01m}\u001b[39;00m\u001b[38;5;124m and \u001b[39m\u001b[38;5;132;01m{\u001b[39;00my\u001b[38;5;241m.\u001b[39mshape\u001b[38;5;132;01m}\u001b[39;00m\u001b[38;5;124m\"\u001b[39m)\n",
      "\u001b[0;31mValueError\u001b[0m: x and y must have same first dimension, but have shapes (100,) and (18,)"
     ]
    },
    {
     "data": {
      "image/png": "[encoded data removed]",
      "text/plain": [
       "<Figure size 640x480 with 1 Axes>"
      ]
     },
     "metadata": {},
     "output_type": "display_data"
    },
    {
     "ename": "",
     "evalue": "",
     "output_type": "error",
     "traceback": [
      "\u001b[1;31mnotebook controller is DISPOSED. \n",
      "\u001b[1;31mView Jupyter <a href='command:jupyter.viewOutput'>log</a> for further details."
     ]
    },
    {
     "ename": "",
     "evalue": "",
     "output_type": "error",
     "traceback": [
      "\u001b[1;31mnotebook controller is DISPOSED. \n",
      "\u001b[1;31mView Jupyter <a href='command:jupyter.viewOutput'>log</a> for further details."
     ]
    },
    {
     "ename": "",
     "evalue": "",
     "output_type": "error",
     "traceback": [
      "\u001b[1;31mnotebook controller is DISPOSED. \n",
      "\u001b[1;31mView Jupyter <a href='command:jupyter.viewOutput'>log</a> for further details."
     ]
    }
   ],
   "source": [
    "t = np.arange(len(losses))\n",
    "datapoints_per_iteration = len(losses)/iterations\n",
    "t2 = np.arange(0,len(losses),datapoints_per_iteration)\n",
    "print(t2)\n",
    "print(len(iteration_losses_total))\n",
    "print(w_theta)\n",
    "#fig, ax = plt.subplots()\n",
    "plt.plot(t, losses, label = \"loss minibatches\")\n",
    "plt.plot(t2, [l/datapoints_per_iteration for l in iteration_losses_total], label = \"average loss iteration\")\n",
    "plt.legend() \n",
    "\n",
    "\n",
    "\n",
    "\n",
    "#print(total_loss_best_theta)\n"
   ]
  },
  {
   "cell_type": "code",
   "execution_count": null,
   "metadata": {},
   "outputs": [
    {
     "ename": "SyntaxError",
     "evalue": "invalid syntax (2993858587.py, line 1)",
     "output_type": "error",
     "traceback": [
      "\u001b[0;36m  Cell \u001b[0;32mIn[18], line 1\u001b[0;36m\u001b[0m\n\u001b[0;31m    for p1 in\u001b[0m\n\u001b[0m              ^\u001b[0m\n\u001b[0;31mSyntaxError\u001b[0m\u001b[0;31m:\u001b[0m invalid syntax\n"
     ]
    },
    {
     "ename": "",
     "evalue": "",
     "output_type": "error",
     "traceback": [
      "\u001b[1;31mnotebook controller is DISPOSED. \n",
      "\u001b[1;31mView Jupyter <a href='command:jupyter.viewOutput'>log</a> for further details."
     ]
    },
    {
     "ename": "",
     "evalue": "",
     "output_type": "error",
     "traceback": [
      "\u001b[1;31mnotebook controller is DISPOSED. \n",
      "\u001b[1;31mView Jupyter <a href='command:jupyter.viewOutput'>log</a> for further details."
     ]
    },
    {
     "ename": "",
     "evalue": "",
     "output_type": "error",
     "traceback": [
      "\u001b[1;31mnotebook controller is DISPOSED. \n",
      "\u001b[1;31mView Jupyter <a href='command:jupyter.viewOutput'>log</a> for further details."
     ]
    }
   ],
   "source": [
    "for p1 in "
   ]
  }
 ],
 "metadata": {
  "kernelspec": {
   "display_name": "ggml",
   "language": "python",
   "name": "python3"
  },
  "language_info": {
   "codemirror_mode": {
    "name": "ipython",
    "version": 3
   },
   "file_extension": ".py",
   "mimetype": "text/x-python",
   "name": "python",
   "nbconvert_exporter": "python",
   "pygments_lexer": "ipython3",
   "version": "3.12.0"
  }
 },
 "nbformat": 4,
 "nbformat_minor": 2
}
